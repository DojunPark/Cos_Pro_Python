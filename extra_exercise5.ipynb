{
 "cells": [
  {
   "cell_type": "markdown",
   "metadata": {},
   "source": [
    "# 신발 주문 수량 세기"
   ]
  },
  {
   "cell_type": "code",
   "execution_count": 1,
   "metadata": {},
   "outputs": [],
   "source": [
    "def solution(list):\n",
    "    sizes = [0 for _ in range(6)]\n",
    "    \n",
    "    for i in list:\n",
    "        if i == '7':\n",
    "            sizes[0] += 1\n",
    "        elif i == '7.5':\n",
    "            sizes[1] += 1\n",
    "        elif i == '8':\n",
    "            sizes[2] += 1\n",
    "        elif i == '8.5':\n",
    "            sizes[3] += 1\n",
    "        elif i == '9':\n",
    "            sizes[4] += 1\n",
    "        elif i == '9.5':\n",
    "            sizes[5] += 1\n",
    "    \n",
    "    return sizes"
   ]
  },
  {
   "cell_type": "code",
   "execution_count": 2,
   "metadata": {},
   "outputs": [
    {
     "data": {
      "text/plain": [
       "[0, 2, 2, 0, 1, 0]"
      ]
     },
     "execution_count": 2,
     "metadata": {},
     "output_type": "execute_result"
    }
   ],
   "source": [
    "sizes = ['7.5', '7.5', '9', '8', '8']\n",
    "solution(sizes)"
   ]
  },
  {
   "cell_type": "markdown",
   "metadata": {},
   "source": [
    "# 최대값에서 최소값 빼기"
   ]
  },
  {
   "cell_type": "code",
   "execution_count": 4,
   "metadata": {},
   "outputs": [],
   "source": [
    "def get_min(list):\n",
    "    min = 101\n",
    "    for i in list:\n",
    "        if i < min:\n",
    "            min = i\n",
    "    return min\n",
    "\n",
    "def get_max(list):\n",
    "    max = -1\n",
    "    for i in list:\n",
    "        if i > max:\n",
    "            max = i\n",
    "    return max\n",
    "\n",
    "def solution(list):\n",
    "    max = get_max(list)\n",
    "    min = get_min(list)\n",
    "    return max - min"
   ]
  },
  {
   "cell_type": "markdown",
   "metadata": {},
   "source": [
    "# 첫번째 최대값에서 두번째 최대값 빼기"
   ]
  },
  {
   "cell_type": "code",
   "execution_count": 5,
   "metadata": {},
   "outputs": [],
   "source": [
    "def get_max(list):\n",
    "    max = -1\n",
    "    for i in list:\n",
    "        if i > max:\n",
    "            max = i\n",
    "    return max\n",
    "\n",
    "def get_removed(list, input):\n",
    "    tmp = []\n",
    "    for i in list:\n",
    "        if i != input:\n",
    "            tmp.append(i)\n",
    "    return tmp\n",
    "\n",
    "def solution(list):\n",
    "    first_max = get_max(list)\n",
    "    my_list = get_removed(list, first_max)\n",
    "    second_max = get_max(my_list)\n",
    "    return first_max - second_max"
   ]
  },
  {
   "cell_type": "code",
   "execution_count": 6,
   "metadata": {},
   "outputs": [
    {
     "data": {
      "text/plain": [
       "5"
      ]
     },
     "execution_count": 6,
     "metadata": {},
     "output_type": "execute_result"
    }
   ],
   "source": [
    "samples = [1, 2, 3, 4, 5, 1, 2, 3, 1, 2, 1, 2, 1, 10]\n",
    "solution(samples)"
   ]
  },
  {
   "cell_type": "markdown",
   "metadata": {},
   "source": [
    "# 점수 별로 인원 세기"
   ]
  },
  {
   "cell_type": "code",
   "execution_count": 7,
   "metadata": {},
   "outputs": [],
   "source": [
    "def solution(list):\n",
    "    count = [0 for _ in range(5)]\n",
    "    \n",
    "    for i in list:\n",
    "        if i >= 85:\n",
    "            count[0] += 1\n",
    "        elif i >= 70:\n",
    "            count[1] += 1\n",
    "        elif i >= 55:\n",
    "            count[2] += 1\n",
    "        elif i >= 40:\n",
    "            count[3] += 1\n",
    "        else:\n",
    "            count[4] += 1\n",
    "    \n",
    "    return count"
   ]
  },
  {
   "cell_type": "code",
   "execution_count": 8,
   "metadata": {},
   "outputs": [
    {
     "data": {
      "text/plain": [
       "[2, 2, 1, 2, 0]"
      ]
     },
     "execution_count": 8,
     "metadata": {},
     "output_type": "execute_result"
    }
   ],
   "source": [
    "samples = [100, 90, 80, 70, 60, 50, 40]\n",
    "solution(samples)"
   ]
  },
  {
   "cell_type": "markdown",
   "metadata": {},
   "source": [
    "# 최대 빈출 숫자를 최소빈출 숫자로 나누기"
   ]
  },
  {
   "cell_type": "code",
   "execution_count": 12,
   "metadata": {},
   "outputs": [],
   "source": [
    "def count(list):\n",
    "    tmp = [0 for _ in range(101)]\n",
    "    for i in list:\n",
    "        tmp[i] += 1        \n",
    "    return tmp\n",
    "\n",
    "def get_max(count):\n",
    "    max = -1\n",
    "    for i in count:\n",
    "        if i > max:\n",
    "            max = i\n",
    "    return max\n",
    "\n",
    "def get_min(count):\n",
    "    min = 101\n",
    "    for i in count:\n",
    "        if i < min and i != 0:\n",
    "            min = i\n",
    "    return min\n",
    "\n",
    "def solution(list):\n",
    "    counted = count(list)\n",
    "    max = get_max(counted)\n",
    "    min = get_min(counted)\n",
    "    \n",
    "    print(max, min)\n",
    "    return max // min"
   ]
  },
  {
   "cell_type": "markdown",
   "metadata": {},
   "source": [
    "# k보다 큰 수 세기"
   ]
  },
  {
   "cell_type": "code",
   "execution_count": 14,
   "metadata": {},
   "outputs": [],
   "source": [
    "def solution(list, k):\n",
    "    count = 0\n",
    "    for i in list:\n",
    "        if i > k:\n",
    "            count += 1\n",
    "    return count"
   ]
  },
  {
   "cell_type": "code",
   "execution_count": 15,
   "metadata": {},
   "outputs": [
    {
     "data": {
      "text/plain": [
       "3"
      ]
     },
     "execution_count": 15,
     "metadata": {},
     "output_type": "execute_result"
    }
   ],
   "source": [
    "ls_weight = [50, 60, 70, 80, 90, 100]\n",
    "solution(ls_weight, 78)"
   ]
  },
  {
   "cell_type": "markdown",
   "metadata": {},
   "source": [
    "# 숫자 바꾸기"
   ]
  },
  {
   "cell_type": "code",
   "execution_count": 18,
   "metadata": {},
   "outputs": [],
   "source": [
    "def solution(string):\n",
    "    output = ''\n",
    "    \n",
    "    for s in string:\n",
    "        if '0' <= s <= '9':\n",
    "            num = ord('i') - ord(s)\n",
    "            s = chr(num)\n",
    "        output += s\n",
    "        \n",
    "    return output"
   ]
  },
  {
   "cell_type": "code",
   "execution_count": 19,
   "metadata": {},
   "outputs": [
    {
     "data": {
      "text/plain": [
       "'ab1c3d'"
      ]
     },
     "execution_count": 19,
     "metadata": {},
     "output_type": "execute_result"
    }
   ],
   "source": [
    "string = 'ab8c6d'\n",
    "solution(string)"
   ]
  },
  {
   "cell_type": "markdown",
   "metadata": {},
   "source": [
    "# 특정 문자가 들어간 이름 수 세기"
   ]
  },
  {
   "cell_type": "code",
   "execution_count": 20,
   "metadata": {},
   "outputs": [],
   "source": [
    "def solution(list):\n",
    "    count = 0\n",
    "    for name in list:\n",
    "        for n in name:\n",
    "            if n.find('a') > -1 or n.find('j') > -1:\n",
    "                count += 1\n",
    "                break\n",
    "    return count"
   ]
  },
  {
   "cell_type": "code",
   "execution_count": 21,
   "metadata": {},
   "outputs": [
    {
     "data": {
      "text/plain": [
       "2"
      ]
     },
     "execution_count": 21,
     "metadata": {},
     "output_type": "execute_result"
    }
   ],
   "source": [
    "names = ['Anthony', 'Karl', 'Jan', 'June']\n",
    "solution(names)"
   ]
  },
  {
   "cell_type": "markdown",
   "metadata": {},
   "source": [
    "# 필요한 박스 개수 세기"
   ]
  },
  {
   "cell_type": "code",
   "execution_count": 22,
   "metadata": {},
   "outputs": [],
   "source": [
    "def solution(orders):\n",
    "    answer = 0\n",
    "    size = 0\n",
    "    for o in orders:\n",
    "        for i in range(6):\n",
    "            if o[i] != 0:\n",
    "                size += ((i+1)**2) * (o[i])\n",
    "    answer = size // 36\n",
    "    if size % 36 != 0:\n",
    "        answer += 1\n",
    "        return answer"
   ]
  },
  {
   "cell_type": "markdown",
   "metadata": {},
   "source": [
    "# ISBN 확인하기"
   ]
  },
  {
   "cell_type": "code",
   "execution_count": 23,
   "metadata": {},
   "outputs": [],
   "source": [
    "def sum_isbn(isbn):\n",
    "    sum = 0\n",
    "    for i in range(len(isbn)):\n",
    "        c = int(isbn[i])\n",
    "        if i % 2:\n",
    "            w = 3\n",
    "        else:\n",
    "            w = 1\n",
    "        sum += w * c\n",
    "    return sum\n",
    "\n",
    "def solution(isbn):\n",
    "    \n",
    "    answer = ''\n",
    "    sum = sum_isbn(isbn[:-1])\n",
    "    r = 10 - (sum % 10)\n",
    "    \n",
    "    if r == 10:\n",
    "        answer = '0'\n",
    "    else:\n",
    "        answer = str(r)\n",
    "    \n",
    "    return answer"
   ]
  },
  {
   "cell_type": "code",
   "execution_count": 24,
   "metadata": {},
   "outputs": [
    {
     "data": {
      "text/plain": [
       "'0'"
      ]
     },
     "execution_count": 24,
     "metadata": {},
     "output_type": "execute_result"
    }
   ],
   "source": [
    "solution('9788960777330')"
   ]
  },
  {
   "cell_type": "code",
   "execution_count": null,
   "metadata": {},
   "outputs": [],
   "source": []
  },
  {
   "cell_type": "code",
   "execution_count": null,
   "metadata": {},
   "outputs": [],
   "source": []
  },
  {
   "cell_type": "code",
   "execution_count": null,
   "metadata": {},
   "outputs": [],
   "source": []
  },
  {
   "cell_type": "code",
   "execution_count": null,
   "metadata": {},
   "outputs": [],
   "source": []
  },
  {
   "cell_type": "code",
   "execution_count": null,
   "metadata": {},
   "outputs": [],
   "source": []
  },
  {
   "cell_type": "code",
   "execution_count": null,
   "metadata": {},
   "outputs": [],
   "source": []
  },
  {
   "cell_type": "code",
   "execution_count": null,
   "metadata": {},
   "outputs": [],
   "source": []
  },
  {
   "cell_type": "code",
   "execution_count": null,
   "metadata": {},
   "outputs": [],
   "source": []
  },
  {
   "cell_type": "code",
   "execution_count": null,
   "metadata": {},
   "outputs": [],
   "source": []
  },
  {
   "cell_type": "code",
   "execution_count": null,
   "metadata": {},
   "outputs": [],
   "source": []
  },
  {
   "cell_type": "code",
   "execution_count": null,
   "metadata": {},
   "outputs": [],
   "source": []
  },
  {
   "cell_type": "code",
   "execution_count": null,
   "metadata": {},
   "outputs": [],
   "source": []
  },
  {
   "cell_type": "code",
   "execution_count": null,
   "metadata": {},
   "outputs": [],
   "source": []
  },
  {
   "cell_type": "code",
   "execution_count": null,
   "metadata": {},
   "outputs": [],
   "source": []
  },
  {
   "cell_type": "code",
   "execution_count": null,
   "metadata": {},
   "outputs": [],
   "source": []
  },
  {
   "cell_type": "code",
   "execution_count": null,
   "metadata": {},
   "outputs": [],
   "source": []
  },
  {
   "cell_type": "code",
   "execution_count": null,
   "metadata": {},
   "outputs": [],
   "source": []
  },
  {
   "cell_type": "code",
   "execution_count": null,
   "metadata": {},
   "outputs": [],
   "source": []
  },
  {
   "cell_type": "code",
   "execution_count": null,
   "metadata": {},
   "outputs": [],
   "source": []
  },
  {
   "cell_type": "code",
   "execution_count": null,
   "metadata": {},
   "outputs": [],
   "source": []
  },
  {
   "cell_type": "code",
   "execution_count": null,
   "metadata": {},
   "outputs": [],
   "source": []
  },
  {
   "cell_type": "code",
   "execution_count": null,
   "metadata": {},
   "outputs": [],
   "source": []
  },
  {
   "cell_type": "code",
   "execution_count": null,
   "metadata": {},
   "outputs": [],
   "source": []
  }
 ],
 "metadata": {
  "kernelspec": {
   "display_name": "Python 3",
   "language": "python",
   "name": "python3"
  },
  "language_info": {
   "codemirror_mode": {
    "name": "ipython",
    "version": 3
   },
   "file_extension": ".py",
   "mimetype": "text/x-python",
   "name": "python",
   "nbconvert_exporter": "python",
   "pygments_lexer": "ipython3",
   "version": "3.6.9"
  }
 },
 "nbformat": 4,
 "nbformat_minor": 2
}
