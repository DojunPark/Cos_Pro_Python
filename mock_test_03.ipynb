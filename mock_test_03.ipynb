{
 "cells": [
  {
   "cell_type": "markdown",
   "metadata": {},
   "source": [
    "# Professional Coding Specialist COS Pro level 2 - python\n",
    "# `mock test 3`"
   ]
  },
  {
   "cell_type": "markdown",
   "metadata": {},
   "source": [
    "# 1. Make a function that calculates distance"
   ]
  },
  {
   "cell_type": "code",
   "execution_count": 12,
   "metadata": {},
   "outputs": [],
   "source": [
    "def solution(a, b):\n",
    "    answer = 0\n",
    "    diff = (b-a) if b > a else a-b\n",
    "    answer = 10 / diff\n",
    "    return answer * 60"
   ]
  },
  {
   "cell_type": "markdown",
   "metadata": {},
   "source": [
    "# 2. Make a function that calculates proper budget for each department"
   ]
  },
  {
   "cell_type": "code",
   "execution_count": 16,
   "metadata": {},
   "outputs": [],
   "source": [
    "def func_a(arr):\n",
    "    total = 0\n",
    "    for i in arr:\n",
    "        total += i\n",
    "    return total\n",
    "\n",
    "def solution(total, arr):\n",
    "    result = []\n",
    "    req_total = func_a(arr)\n",
    "    for i in arr:\n",
    "        if req_total > total:\n",
    "            result.append(total // len(arr))\n",
    "        else:\n",
    "            result.append(i)\n",
    "    return result"
   ]
  },
  {
   "cell_type": "code",
   "execution_count": 19,
   "metadata": {},
   "outputs": [
    {
     "name": "stdout",
     "output_type": "stream",
     "text": [
      "[120, 110, 140, 120]\n",
      "[125, 125, 125, 125]\n"
     ]
    }
   ],
   "source": [
    "sample1 = [120, 110, 140, 120]\n",
    "sample2 = [200, 110, 140, 150]\n",
    "\n",
    "print(solution(500, sample1))\n",
    "print(solution(500, sample2))"
   ]
  },
  {
   "cell_type": "markdown",
   "metadata": {},
   "source": [
    "one more time"
   ]
  },
  {
   "cell_type": "code",
   "execution_count": 21,
   "metadata": {},
   "outputs": [],
   "source": [
    "def func_a(arr):\n",
    "    total = 0\n",
    "    for i in arr:\n",
    "        total += i\n",
    "    return total\n",
    "\n",
    "def solution(total, arr):\n",
    "    result = []\n",
    "    req_total = func_a(arr)\n",
    "    \n",
    "    for i in arr:\n",
    "        if req_total > total:\n",
    "            result.append(total // len(arr))\n",
    "        else:\n",
    "            result.append(i)\n",
    "    \n",
    "    return result"
   ]
  },
  {
   "cell_type": "code",
   "execution_count": 22,
   "metadata": {},
   "outputs": [
    {
     "name": "stdout",
     "output_type": "stream",
     "text": [
      "[120, 110, 140, 120]\n",
      "[125, 125, 125, 125]\n"
     ]
    }
   ],
   "source": [
    "sample1 = [120, 110, 140, 120]\n",
    "sample2 = [200, 110, 140, 150]\n",
    "\n",
    "print(solution(500, sample1))\n",
    "print(solution(500, sample2))"
   ]
  },
  {
   "cell_type": "markdown",
   "metadata": {},
   "source": [
    "# 3. Make a function that finds out who has been the same class with teacher most"
   ]
  },
  {
   "cell_type": "code",
   "execution_count": 23,
   "metadata": {},
   "outputs": [],
   "source": [
    "def solution(table):\n",
    "    answer = [0 for _ in range(6)]\n",
    "    \n",
    "    for i in range(5):\n",
    "        if table[0][i] == table[1][i]:\n",
    "            answer[1] += 1\n",
    "        if table[0][i] == table[2][i]:\n",
    "            answer[2] += 1\n",
    "        if table[0][i] == table[3][i]:\n",
    "            answer[3] += 1\n",
    "        if table[0][i] == table[4][i]:\n",
    "            answer[4] += 1\n",
    "        if table[0][i] == table[5][i]:\n",
    "            answer[5] += 1\n",
    "    \n",
    "    max = 0\n",
    "    idx_max = 0\n",
    "    for idx, num in enumerate(answer):\n",
    "        if num > max:\n",
    "            max = num\n",
    "            idx_max = idx\n",
    "    \n",
    "    return idx_max"
   ]
  },
  {
   "cell_type": "code",
   "execution_count": 24,
   "metadata": {},
   "outputs": [
    {
     "data": {
      "text/plain": [
       "4"
      ]
     },
     "execution_count": 24,
     "metadata": {},
     "output_type": "execute_result"
    }
   ],
   "source": [
    "samples = [[2, 6, 1, 7, 3], [2, 9, 4, 6, 8], [6, 3, 4, 7, 1], [7, 7, 1, 1, 2], [8, 6, 9, 7, 3], [4, 6, 5, 9, 2]]\n",
    "solution(samples)"
   ]
  },
  {
   "cell_type": "markdown",
   "metadata": {},
   "source": [
    "based on the answer sheet"
   ]
  },
  {
   "cell_type": "code",
   "execution_count": 27,
   "metadata": {},
   "outputs": [],
   "source": [
    "def solution(table):\n",
    "    answer = 0\n",
    "    max = 0\n",
    "    for i in range(1, len(table)):\n",
    "        sum = 0\n",
    "        for k in range(5):\n",
    "            if table[0][k] == table[i][k]:\n",
    "                sum += 1\n",
    "        if max < sum:\n",
    "            max = sum\n",
    "            answer = i\n",
    "    return answer"
   ]
  },
  {
   "cell_type": "code",
   "execution_count": 28,
   "metadata": {},
   "outputs": [
    {
     "data": {
      "text/plain": [
       "4"
      ]
     },
     "execution_count": 28,
     "metadata": {},
     "output_type": "execute_result"
    }
   ],
   "source": [
    "samples = [[2, 6, 1, 7, 3], [2, 9, 4, 6, 8], [6, 3, 4, 7, 1], [7, 7, 1, 1, 2], [8, 6, 9, 7, 3], [4, 6, 5, 9, 2]]\n",
    "solution(samples)"
   ]
  },
  {
   "cell_type": "markdown",
   "metadata": {},
   "source": [
    "again"
   ]
  },
  {
   "cell_type": "code",
   "execution_count": 33,
   "metadata": {},
   "outputs": [],
   "source": [
    "def solution(table):\n",
    "    max = 0\n",
    "    idx = 0\n",
    "    for i in range(1, len(table)):\n",
    "        for k in range(len(table[0])):\n",
    "            sum = 0\n",
    "            if table[0][k] == table[i][k]:\n",
    "                sum += 1\n",
    "        if sum > max:\n",
    "            max = sum\n",
    "            idx = i\n",
    "    return idx"
   ]
  },
  {
   "cell_type": "code",
   "execution_count": 34,
   "metadata": {},
   "outputs": [
    {
     "data": {
      "text/plain": [
       "4"
      ]
     },
     "execution_count": 34,
     "metadata": {},
     "output_type": "execute_result"
    }
   ],
   "source": [
    "samples = [[2, 6, 1, 7, 3], [2, 9, 4, 6, 8], [6, 3, 4, 7, 1], [7, 7, 1, 1, 2], [8, 6, 9, 7, 3], [4, 6, 5, 9, 2]]\n",
    "solution(samples)"
   ]
  },
  {
   "cell_type": "markdown",
   "metadata": {},
   "source": [
    "# 4. Make a function that calculates how many times it takes to paint all walls"
   ]
  },
  {
   "cell_type": "code",
   "execution_count": 37,
   "metadata": {},
   "outputs": [],
   "source": [
    "def solution(walls):\n",
    "    hours = 1\n",
    "    painted = 0\n",
    "    while painted < walls:\n",
    "        painted = hours + hours/2 + hours/4\n",
    "        hours += 1\n",
    "    answer = hours - 1\n",
    "    return answer"
   ]
  },
  {
   "cell_type": "code",
   "execution_count": 39,
   "metadata": {},
   "outputs": [
    {
     "name": "stdout",
     "output_type": "stream",
     "text": [
      "1\n",
      "2\n",
      "2\n",
      "3\n"
     ]
    }
   ],
   "source": [
    "print(solution(1))\n",
    "print(solution(2))\n",
    "print(solution(3))\n",
    "print(solution(4))"
   ]
  },
  {
   "cell_type": "markdown",
   "metadata": {},
   "source": [
    "# 5. Make a function that finds out who wins the card game"
   ]
  },
  {
   "cell_type": "code",
   "execution_count": 5,
   "metadata": {},
   "outputs": [],
   "source": [
    "def solution(mho_cards, mhe_cards):\n",
    "    mho = 0\n",
    "    mhe = 0\n",
    "    for i in range(len(mho_cards)):\n",
    "        if mho_cards[i] > mhe_cards[i]:\n",
    "            mho += 1\n",
    "        elif mho_cards[i] < mhe_cards[i]:\n",
    "            mhe += 1\n",
    "    \n",
    "    if mho > mhe:\n",
    "        result = 1\n",
    "    elif mho < mhe:\n",
    "        result = 0\n",
    "    else:\n",
    "        result = -1\n",
    "    \n",
    "    return result"
   ]
  },
  {
   "cell_type": "code",
   "execution_count": null,
   "metadata": {},
   "outputs": [],
   "source": []
  },
  {
   "cell_type": "code",
   "execution_count": 6,
   "metadata": {},
   "outputs": [
    {
     "data": {
      "text/plain": [
       "-1"
      ]
     },
     "execution_count": 6,
     "metadata": {},
     "output_type": "execute_result"
    }
   ],
   "source": [
    "mhos = [1, 2, 3, 4, 5, 6, 7, 8, 9, 10, 11, 12, 13]\n",
    "mhes = [1, 2, 3, 4, 5, 6, 7, 8, 9, 10, 11, 12, 13]\n",
    "\n",
    "solution(mhos, mhes)"
   ]
  },
  {
   "cell_type": "code",
   "execution_count": 35,
   "metadata": {},
   "outputs": [],
   "source": [
    "def solution(minho_cards, minhee_cards):\n",
    "    minho = 0\n",
    "    minhee = 0\n",
    "    \n",
    "    for i in range(len(minho_cards)):\n",
    "        if minho_cards[i] > minhee_cards[i]:\n",
    "            minho += 1\n",
    "        elif minho_cards[i] < minhee_cards[i]:\n",
    "            minhee += 1\n",
    "            \n",
    "    if minho > minhee:\n",
    "        result = 1\n",
    "    elif minho < minhee:\n",
    "        result = 0\n",
    "    else:\n",
    "        result = -1\n",
    "    \n",
    "    return result"
   ]
  },
  {
   "cell_type": "code",
   "execution_count": 36,
   "metadata": {},
   "outputs": [
    {
     "data": {
      "text/plain": [
       "-1"
      ]
     },
     "execution_count": 36,
     "metadata": {},
     "output_type": "execute_result"
    }
   ],
   "source": [
    "mhos = [1, 2, 3, 4, 5, 6, 7, 8, 9, 10, 11, 12, 13]\n",
    "mhes = [1, 2, 3, 4, 5, 6, 7, 8, 9, 10, 11, 12, 13]\n",
    "\n",
    "solution(mhos, mhes)"
   ]
  },
  {
   "cell_type": "markdown",
   "metadata": {},
   "source": [
    "# 6. Make a function that adds all integers from the given string"
   ]
  },
  {
   "cell_type": "code",
   "execution_count": 41,
   "metadata": {},
   "outputs": [],
   "source": [
    "def solution(string):\n",
    "    answer = 0\n",
    "    number = 0\n",
    "    s = string + ''\n",
    "    for c in s:\n",
    "        if '0' <= c and c <= '9':\n",
    "            number = number * 10 + int(c)\n",
    "        else:\n",
    "            answer += number\n",
    "            number = 0\n",
    "    return answer"
   ]
  },
  {
   "cell_type": "code",
   "execution_count": 42,
   "metadata": {},
   "outputs": [
    {
     "data": {
      "text/plain": [
       "2040"
      ]
     },
     "execution_count": 42,
     "metadata": {},
     "output_type": "execute_result"
    }
   ],
   "source": [
    "solution('korean world cup 2018 olympic stadium 10, 11 pm 1.')"
   ]
  },
  {
   "cell_type": "markdown",
   "metadata": {},
   "source": [
    "one more time"
   ]
  },
  {
   "cell_type": "code",
   "execution_count": 47,
   "metadata": {},
   "outputs": [],
   "source": [
    "def solution(string):\n",
    "    string += ''\n",
    "    total = 0\n",
    "    num = 0\n",
    "    for i in string:\n",
    "        if '0' <= i and i <= '9':\n",
    "            num = num * 10 + int(i)\n",
    "        else:\n",
    "            total += num\n",
    "            num = 0\n",
    "    return total"
   ]
  },
  {
   "cell_type": "code",
   "execution_count": 48,
   "metadata": {},
   "outputs": [
    {
     "data": {
      "text/plain": [
       "2040"
      ]
     },
     "execution_count": 48,
     "metadata": {},
     "output_type": "execute_result"
    }
   ],
   "source": [
    "solution('korean world cup 2018 olympic stadium 10, 11 pm 1.')"
   ]
  },
  {
   "cell_type": "markdown",
   "metadata": {},
   "source": [
    "# 7. Make a function that judges balls in a baseball game"
   ]
  },
  {
   "cell_type": "code",
   "execution_count": 49,
   "metadata": {},
   "outputs": [],
   "source": [
    "def solution(a, b):\n",
    "    result = [0, 0]\n",
    "    for i in range(3):\n",
    "        temp = b\n",
    "        for k in range(3):\n",
    "            if a % 10 == temp % 10:\n",
    "                if i == k:\n",
    "                    result[0] += 1\n",
    "                else:\n",
    "                    result[1] += 1\n",
    "            temp //= 10\n",
    "        a //= 10\n",
    "    return result"
   ]
  },
  {
   "cell_type": "markdown",
   "metadata": {},
   "source": [
    "# 8. Make a function that confirms if the input string contains certain characters"
   ]
  },
  {
   "cell_type": "code",
   "execution_count": 50,
   "metadata": {},
   "outputs": [],
   "source": [
    "def solution(string, key):\n",
    "    answer = 0\n",
    "    cnt = 0\n",
    "    for k in key:\n",
    "        for s in string:\n",
    "            if k == s:\n",
    "                cnt += 1\n",
    "                break\n",
    "    if cnt >= len(key):\n",
    "        answer = 1\n",
    "    return answer"
   ]
  },
  {
   "cell_type": "code",
   "execution_count": 54,
   "metadata": {},
   "outputs": [
    {
     "name": "stdout",
     "output_type": "stream",
     "text": [
      "0\n",
      "1\n"
     ]
    }
   ],
   "source": [
    "print(solution('kbs110029!', '1!@'))\n",
    "print(solution('kbs110029!', '1!k'))"
   ]
  },
  {
   "cell_type": "markdown",
   "metadata": {},
   "source": [
    "# 9. Make a function that calculates total scores"
   ]
  },
  {
   "cell_type": "code",
   "execution_count": 55,
   "metadata": {},
   "outputs": [],
   "source": [
    "def solution(scores):\n",
    "    result = [0, 0, 0, 0]\n",
    "    for i in range(4):\n",
    "        for k in range(4):\n",
    "            if i != k:\n",
    "                result[i] += scores[i][k] * 2\n",
    "    return result"
   ]
  },
  {
   "cell_type": "code",
   "execution_count": 56,
   "metadata": {},
   "outputs": [
    {
     "data": {
      "text/plain": [
       "[2, 2, 6, 2]"
      ]
     },
     "execution_count": 56,
     "metadata": {},
     "output_type": "execute_result"
    }
   ],
   "source": [
    "samples = [[-10, 1, 0, 0], [0, -10, 0, 1], [1, 1, -10, 1], [1, 0, 0, -10]]\n",
    "solution(samples)"
   ]
  },
  {
   "cell_type": "markdown",
   "metadata": {},
   "source": [
    "again"
   ]
  },
  {
   "cell_type": "code",
   "execution_count": 58,
   "metadata": {},
   "outputs": [],
   "source": [
    "def solution(scores):\n",
    "    result = [0 for _ in range(4)]\n",
    "    for i in range(len(scores)):\n",
    "        for k in range(len(scores[0])):\n",
    "            if i != k:\n",
    "                result[i] += scores[i][k] * 2\n",
    "    return result"
   ]
  },
  {
   "cell_type": "code",
   "execution_count": 60,
   "metadata": {},
   "outputs": [
    {
     "data": {
      "text/plain": [
       "[2, 2, 6, 2]"
      ]
     },
     "execution_count": 60,
     "metadata": {},
     "output_type": "execute_result"
    }
   ],
   "source": [
    "samples = [[-10, 1, 0, 0], [0, -10, 0, 1], [1, 1, -10, 1], [1, 0, 0, -10]]\n",
    "solution(samples)"
   ]
  },
  {
   "cell_type": "markdown",
   "metadata": {},
   "source": [
    "# 10. Make a function that calculates how long it takes to process the input strings"
   ]
  },
  {
   "cell_type": "code",
   "execution_count": 61,
   "metadata": {},
   "outputs": [],
   "source": [
    "def solution(strings):\n",
    "    total = 0\n",
    "    for string in strings:\n",
    "        total += len(string) // 4\n",
    "        if len(string) % 4 != 0:\n",
    "            total += 1\n",
    "    return total"
   ]
  },
  {
   "cell_type": "code",
   "execution_count": 62,
   "metadata": {},
   "outputs": [
    {
     "data": {
      "text/plain": [
       "5"
      ]
     },
     "execution_count": 62,
     "metadata": {},
     "output_type": "execute_result"
    }
   ],
   "source": [
    "strings = ['hello', 'good', 'Yongin']\n",
    "solution(strings)"
   ]
  }
 ],
 "metadata": {
  "kernelspec": {
   "display_name": "Python 3",
   "language": "python",
   "name": "python3"
  },
  "language_info": {
   "codemirror_mode": {
    "name": "ipython",
    "version": 3
   },
   "file_extension": ".py",
   "mimetype": "text/x-python",
   "name": "python",
   "nbconvert_exporter": "python",
   "pygments_lexer": "ipython3",
   "version": "3.6.9"
  }
 },
 "nbformat": 4,
 "nbformat_minor": 2
}
