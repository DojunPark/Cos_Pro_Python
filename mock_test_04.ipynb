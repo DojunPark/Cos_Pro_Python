{
 "cells": [
  {
   "cell_type": "markdown",
   "metadata": {},
   "source": [
    "# Professional Coding Specialist COS Pro level 2 - python\n",
    "# `mock test 4`"
   ]
  },
  {
   "cell_type": "markdown",
   "metadata": {},
   "source": [
    "# 1. Make a function that combines card numbers and counts odd numbers"
   ]
  },
  {
   "cell_type": "code",
   "execution_count": 5,
   "metadata": {},
   "outputs": [],
   "source": [
    "def solution(cards):\n",
    "    answer = 0\n",
    "    for i in range(3):\n",
    "        for k in range(i+1, 5):\n",
    "            for m in rnage(k+1, 5):\n",
    "                if (card[i] + cards[k] + cards[m]) % 2 == 1 :\n",
    "                    answer += 1\n",
    "    return answer"
   ]
  },
  {
   "cell_type": "markdown",
   "metadata": {},
   "source": [
    "# 2. Make a function that returns number of weights needed"
   ]
  },
  {
   "cell_type": "code",
   "execution_count": 6,
   "metadata": {},
   "outputs": [],
   "source": [
    "def func_a(arr):\n",
    "    total = 0\n",
    "    for i in arr:\n",
    "        total += i\n",
    "    return total\n",
    "\n",
    "def solution(arr, payload):\n",
    "    answer = 0\n",
    "    sum = func_a(arr)\n",
    "    if sum >= payload:\n",
    "        arr.sort()\n",
    "        arr.reverse()\n",
    "        weight = 0\n",
    "        for i in range(len(arr)):\n",
    "            diff = payload - weight\n",
    "            if arr[i] <= diff:\n",
    "                wight += arr[i]\n",
    "                answer += 1\n",
    "        if wight != payload:\n",
    "            answer = 0\n",
    "    return answer"
   ]
  },
  {
   "cell_type": "markdown",
   "metadata": {},
   "source": [
    "# 3. Make a function that returns how many times the school bus goes and returns"
   ]
  },
  {
   "cell_type": "code",
   "execution_count": 7,
   "metadata": {},
   "outputs": [],
   "source": [
    "def solution(student):\n",
    "    result = 0\n",
    "    total = 0\n",
    "    for i in student:\n",
    "        total += i\n",
    "    result = total // 12\n",
    "    if total % 12 != 0:\n",
    "        result += 1\n",
    "    return result"
   ]
  },
  {
   "cell_type": "markdown",
   "metadata": {},
   "source": [
    "# 4. Make a function that counts opened doors"
   ]
  },
  {
   "cell_type": "code",
   "execution_count": 8,
   "metadata": {},
   "outputs": [],
   "source": [
    "def solution(n, m):\n",
    "    answer = 0\n",
    "    OPEN, CLOSE = 0, 1\n",
    "    room = [CLOSE for i in range(m+1)]\n",
    "    for i in range(1, n+1):\n",
    "        for k in range(1, m+1):\n",
    "            if k % i == 0:\n",
    "                room[k] = 1 - room[k]\n",
    "    answer = room.count(OPEN)\n",
    "    return answer"
   ]
  },
  {
   "cell_type": "markdown",
   "metadata": {},
   "source": [
    "# 5. Make a function that counts pairs of square brackets"
   ]
  },
  {
   "cell_type": "code",
   "execution_count": 9,
   "metadata": {},
   "outputs": [],
   "source": [
    "def func_a(s):\n",
    "    answer = False\n",
    "    cnt = 0\n",
    "    for i in s:\n",
    "        if i == '[':\n",
    "            cnt += 1\n",
    "        if i == ']':\n",
    "            cnt -= 1\n",
    "    if cnt == 0:\n",
    "        answer = True\n",
    "    return answer\n",
    "\n",
    "def solution(string):\n",
    "    answer = 0\n",
    "    if not func_a(string):\n",
    "        return -1\n",
    "    for i in string:\n",
    "        if i == ']':\n",
    "            answer += 1\n",
    "    return answer"
   ]
  },
  {
   "cell_type": "markdown",
   "metadata": {},
   "source": [
    "# 6. Make a function that counts how many people are attending each class"
   ]
  },
  {
   "cell_type": "code",
   "execution_count": 10,
   "metadata": {},
   "outputs": [],
   "source": [
    "def solution(arr):\n",
    "    answer = [0, 0, 0]\n",
    "    for i in range(3):\n",
    "        for k in range(4):\n",
    "            answer[i] += arr[i*4+k]\n",
    "    return answer"
   ]
  },
  {
   "cell_type": "markdown",
   "metadata": {},
   "source": [
    "# 7. Make a function that counts when x and y are in a same position"
   ]
  },
  {
   "cell_type": "code",
   "execution_count": null,
   "metadata": {},
   "outputs": [],
   "source": [
    "def solution(input):\n",
    "    answer = 0\n",
    "    x = 0\n",
    "    y = 0\n",
    "    for i in input:\n",
    "        if i == 'w':\n",
    "            y -= 1\n",
    "        elif i == 's':\n",
    "            y += 1\n",
    "        elif i == 's':\n",
    "            x -= 1\n",
    "        elif i == 'd':\n",
    "            x += 1\n",
    "        if x == y:\n",
    "            answer += 1\n",
    "        return answer"
   ]
  },
  {
   "cell_type": "markdown",
   "metadata": {},
   "source": [
    "# 8. Make a function that returns score that is mostly different from average"
   ]
  },
  {
   "cell_type": "code",
   "execution_count": 12,
   "metadata": {},
   "outputs": [],
   "source": [
    "def func_a(a):\n",
    "    total = 0\n",
    "    for i in a:\n",
    "        total += i\n",
    "    return total\n",
    "\n",
    "def func_b(a, b):\n",
    "    return b-a if a < b else a-b\n",
    "\n",
    "def func_c(a, b):\n",
    "    max_diff = 0\n",
    "    max_score = 0\n",
    "    for i in b:\n",
    "        diff = func_b(a, i)\n",
    "        if max_diff < diff:\n",
    "            max_diff = diff\n",
    "            max_score = i\n",
    "    return max_score\n",
    "\n",
    "def solution(scores):\n",
    "    total = func_a(scores)\n",
    "    avg = total // len(scores)\n",
    "    answer = func_c(avg, scores)\n",
    "    return answer"
   ]
  },
  {
   "cell_type": "markdown",
   "metadata": {},
   "source": [
    "# 9. Make a function that returns how many rooms are needed"
   ]
  },
  {
   "cell_type": "code",
   "execution_count": 13,
   "metadata": {},
   "outputs": [],
   "source": [
    "def solution(arr, k):\n",
    "    answer = 0\n",
    "    for i in arr:\n",
    "        answer += i//k\n",
    "        if i % k != 0:\n",
    "            answer += 1\n",
    "    return answer"
   ]
  },
  {
   "cell_type": "markdown",
   "metadata": {},
   "source": [
    "# 10. Make a function that returns survey result"
   ]
  },
  {
   "cell_type": "code",
   "execution_count": 14,
   "metadata": {},
   "outputs": [],
   "source": [
    "def solution(positive, negative):\n",
    "    answer = [0, 0]\n",
    "    total = 0\n",
    "    p_sum = 0\n",
    "    n_sum = 0\n",
    "    for i in range(4):\n",
    "        for k in range(3):\n",
    "            total += positive[i][k] + negative[i][k]\n",
    "            p_sum += positive[i][k]\n",
    "            n_sum += negative[i][k]\n",
    "    answer[0] = int(p_sum / total * 100)\n",
    "    answer[1] = int(n_sum / total * 100)\n",
    "    \n",
    "    return answer"
   ]
  }
 ],
 "metadata": {
  "kernelspec": {
   "display_name": "Python 3",
   "language": "python",
   "name": "python3"
  },
  "language_info": {
   "codemirror_mode": {
    "name": "ipython",
    "version": 3
   },
   "file_extension": ".py",
   "mimetype": "text/x-python",
   "name": "python",
   "nbconvert_exporter": "python",
   "pygments_lexer": "ipython3",
   "version": "3.6.9"
  }
 },
 "nbformat": 4,
 "nbformat_minor": 2
}
