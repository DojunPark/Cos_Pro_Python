{
 "cells": [
  {
   "cell_type": "markdown",
   "metadata": {},
   "source": [
    "# Professional Coding Specialist COS Pro level 2 - python \n",
    "# `exercise 1`"
   ]
  },
  {
   "cell_type": "markdown",
   "metadata": {},
   "source": [
    "## 1. Make a function to count each shirt size"
   ]
  },
  {
   "cell_type": "code",
   "execution_count": 9,
   "metadata": {},
   "outputs": [],
   "source": [
    "def solution(shirt_size):\n",
    "    \n",
    "    count = [0, 0, 0, 0, 0, 0]\n",
    "    \n",
    "    for size in shirt_size:\n",
    "        if size == 'XS':\n",
    "            count[0] += 1\n",
    "        elif size == 'S':\n",
    "            count[1] += 1\n",
    "        elif size == 'M':\n",
    "            count[2] += 1\n",
    "        elif size == 'L':\n",
    "            count[3] += 1\n",
    "        elif size == 'XL':\n",
    "            count[4] += 1\n",
    "        elif size == 'XXL':\n",
    "            count[5] += 1\n",
    "    \n",
    "    return count"
   ]
  },
  {
   "cell_type": "code",
   "execution_count": 10,
   "metadata": {},
   "outputs": [
    {
     "data": {
      "text/plain": [
       "[1, 2, 1, 3, 1, 2]"
      ]
     },
     "execution_count": 10,
     "metadata": {},
     "output_type": "execute_result"
    }
   ],
   "source": [
    "size_list = ['XS', 'S', 'S', 'M', 'L', 'L', 'L', 'XL', 'XXL', 'XXL']\n",
    "solution(size_list)"
   ]
  },
  {
   "cell_type": "markdown",
   "metadata": {},
   "source": [
    "- It is also possible to make a count list with list comprehension"
   ]
  },
  {
   "cell_type": "code",
   "execution_count": 14,
   "metadata": {},
   "outputs": [],
   "source": [
    "def solution(shirt_size):\n",
    "    \n",
    "    # here list comprehension\n",
    "    count = [0 for _ in range(6)]\n",
    "    \n",
    "    for size in shirt_size:\n",
    "        if size == 'XS':\n",
    "            count[0] += 1\n",
    "        elif size == 'S':\n",
    "            count[1] += 1\n",
    "        elif size == 'M':\n",
    "            count[2] += 1\n",
    "        elif size == 'L':\n",
    "            count[3] += 1\n",
    "        elif size == 'XL':\n",
    "            count[4] += 1\n",
    "        elif size == 'XXL':\n",
    "            count[5] += 1\n",
    "    \n",
    "    return count"
   ]
  },
  {
   "cell_type": "code",
   "execution_count": 15,
   "metadata": {},
   "outputs": [
    {
     "data": {
      "text/plain": [
       "[1, 2, 1, 3, 1, 2]"
      ]
     },
     "execution_count": 15,
     "metadata": {},
     "output_type": "execute_result"
    }
   ],
   "source": [
    "size_list = ['XS', 'S', 'S', 'M', 'L', 'L', 'L', 'XL', 'XXL', 'XXL']\n",
    "solution(size_list)"
   ]
  },
  {
   "cell_type": "markdown",
   "metadata": {},
   "source": [
    "You are not sure, whether the spell is written in capital letter. <br/>\n",
    "So use upper methode to ensure the input data aren't going to be missed."
   ]
  },
  {
   "cell_type": "code",
   "execution_count": 10,
   "metadata": {},
   "outputs": [],
   "source": [
    "def solution(list):\n",
    "    ls_size = [0 for _ in range(6)]\n",
    "    \n",
    "    for size in list:\n",
    "        if size.upper() == 'XS':\n",
    "            ls_size[0] += 1\n",
    "        elif size.upper() == 'S':\n",
    "            ls_size[1] += 1\n",
    "        elif size.upper() == 'M':\n",
    "            ls_size[2] += 1\n",
    "        elif size.upper() == 'L':\n",
    "            ls_size[3] += 1\n",
    "        elif size.upper() == 'XL':\n",
    "            ls_size[4] += 1\n",
    "        elif size.upper() == 'XXL':\n",
    "            ls_size[5] += 1\n",
    "    \n",
    "    return ls_size"
   ]
  },
  {
   "cell_type": "code",
   "execution_count": 11,
   "metadata": {},
   "outputs": [
    {
     "data": {
      "text/plain": [
       "[0, 1, 2, 1, 1, 1]"
      ]
     },
     "execution_count": 11,
     "metadata": {},
     "output_type": "execute_result"
    }
   ],
   "source": [
    "sizes = ['S', 'xl', 'XXl', 'L', 'm', 'M', 'mm']\n",
    "\n",
    "solution(sizes)"
   ]
  },
  {
   "cell_type": "markdown",
   "metadata": {},
   "source": [
    "## 2. Make a function to calculate how much you have to pay"
   ]
  },
  {
   "cell_type": "code",
   "execution_count": 16,
   "metadata": {},
   "outputs": [],
   "source": [
    "def solution(price, grade):\n",
    "    \n",
    "    if grade == 'S':\n",
    "        payment = price * (1 - 0.05)\n",
    "    elif grade == 'G':\n",
    "        payment = price * (1 - 0.10)\n",
    "    elif grade == 'V':\n",
    "        payment = price * (1 - 0.15)\n",
    "    \n",
    "    return payment"
   ]
  },
  {
   "cell_type": "code",
   "execution_count": 17,
   "metadata": {},
   "outputs": [
    {
     "data": {
      "text/plain": [
       "9000.0"
      ]
     },
     "execution_count": 17,
     "metadata": {},
     "output_type": "execute_result"
    }
   ],
   "source": [
    "solution(10000, 'G')"
   ]
  },
  {
   "cell_type": "markdown",
   "metadata": {},
   "source": [
    "- It is common to print out the price as interger type, so use int() function before return the final value!"
   ]
  },
  {
   "cell_type": "code",
   "execution_count": 18,
   "metadata": {},
   "outputs": [],
   "source": [
    "def solution(price, grade):\n",
    "    \n",
    "    if grade == 'S':\n",
    "        payment = price * (1 - 0.05)\n",
    "    elif grade == 'G':\n",
    "        payment = price * (1 - 0.10)\n",
    "    elif grade == 'V':\n",
    "        payment = price * (1 - 0.15)\n",
    "    \n",
    "    return int(payment)"
   ]
  },
  {
   "cell_type": "code",
   "execution_count": 19,
   "metadata": {},
   "outputs": [
    {
     "data": {
      "text/plain": [
       "9000"
      ]
     },
     "execution_count": 19,
     "metadata": {},
     "output_type": "execute_result"
    }
   ],
   "source": [
    "solution(10000, 'G')"
   ]
  },
  {
   "cell_type": "markdown",
   "metadata": {},
   "source": [
    "## 3. Make a function to count how many days are between two input dates"
   ]
  },
  {
   "cell_type": "code",
   "execution_count": 28,
   "metadata": {},
   "outputs": [],
   "source": [
    "# function that counts days from January 1. to input date\n",
    "def func(month, day):\n",
    "    month_list = [31, 28, 31, 30, 31, 30, 31, 31, 30 ,31, 30, 31]\n",
    "    total = 0\n",
    "    for i in range(month - 1):\n",
    "        total += month_list[i]\n",
    "    total += day\n",
    "    return total - 1\n",
    "\n",
    "# function that subtracts end days trom start days \n",
    "# (return value is the dates counted between two days) \n",
    "def solution(start_m, start_d, end_m, end_d):\n",
    "    start_days = func(start_m, start_d)\n",
    "    end_days = func(end_m, end_d)\n",
    "    return end_days - start_days"
   ]
  },
  {
   "cell_type": "code",
   "execution_count": 27,
   "metadata": {},
   "outputs": [
    {
     "data": {
      "text/plain": [
       "30"
      ]
     },
     "execution_count": 27,
     "metadata": {},
     "output_type": "execute_result"
    }
   ],
   "source": [
    "solution(1, 16, 2, 15)"
   ]
  },
  {
   "cell_type": "markdown",
   "metadata": {},
   "source": [
    "- Let's the same function one more time"
   ]
  },
  {
   "cell_type": "code",
   "execution_count": 31,
   "metadata": {},
   "outputs": [],
   "source": [
    "def func(month, day):\n",
    "    month_list = [31, 28, 31, 30, 31, 30, 31, 31, 30, 31, 30, 31]\n",
    "    total = 0\n",
    "    for i in range(month - 1):\n",
    "        total += month_list[i]\n",
    "    total += (day - 1)\n",
    "    return total\n",
    "\n",
    "def solution(start_m, start_d, end_m, end_d):\n",
    "    start_days = func(start_m, start_d)\n",
    "    end_days = func(end_m, end_d)\n",
    "    return end_days - start_days"
   ]
  },
  {
   "cell_type": "code",
   "execution_count": 32,
   "metadata": {},
   "outputs": [
    {
     "data": {
      "text/plain": [
       "89"
      ]
     },
     "execution_count": 32,
     "metadata": {},
     "output_type": "execute_result"
    }
   ],
   "source": [
    "solution(7, 15, 10, 12)"
   ]
  },
  {
   "cell_type": "markdown",
   "metadata": {},
   "source": [
    "## 4. Make a function that calculates how many times the most frequent number appears than the least frequent number"
   ]
  },
  {
   "cell_type": "code",
   "execution_count": 42,
   "metadata": {},
   "outputs": [],
   "source": [
    "def func_count(list):\n",
    "    count = [0 for _ in range(1000+1)]\n",
    "    for i in list:\n",
    "        count[i] += 1\n",
    "    return count\n",
    "\n",
    "def func_max(cnt_list):\n",
    "    max = 0\n",
    "    for i in cnt_list:\n",
    "        if max < i:\n",
    "            max = i\n",
    "    return max\n",
    "\n",
    "def func_min(cnt_list):\n",
    "    min = 1001\n",
    "    for i in cnt_list:\n",
    "        if min > i and i != 0:\n",
    "            min = i\n",
    "    return min\n",
    "\n",
    "def solution(list):\n",
    "    cnt_ls = func_count(list)\n",
    "    max = func_max(cnt_ls)\n",
    "    min = func_min(cnt_ls)\n",
    "    return max // min"
   ]
  },
  {
   "cell_type": "code",
   "execution_count": 43,
   "metadata": {},
   "outputs": [
    {
     "data": {
      "text/plain": [
       "4"
      ]
     },
     "execution_count": 43,
     "metadata": {},
     "output_type": "execute_result"
    }
   ],
   "source": [
    "ls1 = [1, 2, 3, 4, 44, 22, 21, 45, 75, 32, 45, 31, 1, 2, 4, 2, 3, 2, 1, 4]\n",
    "solution(ls1)"
   ]
  },
  {
   "cell_type": "markdown",
   "metadata": {},
   "source": [
    "- count frequency and return how many times each number appeared and what number it is"
   ]
  },
  {
   "cell_type": "code",
   "execution_count": 44,
   "metadata": {},
   "outputs": [],
   "source": [
    "def func_count(list):\n",
    "    count = [0 for _ in range(1000+1)]\n",
    "    for i in list:\n",
    "        count[i] += 1\n",
    "    return count\n",
    "\n",
    "def func_max(cnt_list):\n",
    "    max = 0\n",
    "    max_idx = 0\n",
    "    for idx, i in enumerate(cnt_list):\n",
    "        if max < i:\n",
    "            max = i\n",
    "            max_idx = idx\n",
    "    return max_idx, max\n",
    "\n",
    "def func_min(cnt_list):\n",
    "    min = 1001\n",
    "    min_idx = 0\n",
    "    for idx, i in enumerate(cnt_list):\n",
    "        if min > i and i != 0:\n",
    "            min = i\n",
    "            min_idx = idx\n",
    "    return min_idx, min"
   ]
  },
  {
   "cell_type": "code",
   "execution_count": 47,
   "metadata": {},
   "outputs": [
    {
     "name": "stdout",
     "output_type": "stream",
     "text": [
      "(2, 4)\n",
      "(21, 1)\n"
     ]
    }
   ],
   "source": [
    "ls1 = [1, 2, 3, 4, 44, 22, 21, 45, 75, 32, 45, 31, 1, 2, 4, 2, 3, 2, 1, 4]\n",
    "\n",
    "cnt_ls = func_count(ls1)\n",
    "\n",
    "print(func_max(cnt_ls))\n",
    "print(func_min(cnt_ls))"
   ]
  },
  {
   "cell_type": "markdown",
   "metadata": {},
   "source": [
    "## 5. Make a function that reverts the order of input list"
   ]
  },
  {
   "cell_type": "markdown",
   "metadata": {},
   "source": [
    "with python methode, it works very easily"
   ]
  },
  {
   "cell_type": "code",
   "execution_count": 51,
   "metadata": {},
   "outputs": [
    {
     "name": "stdout",
     "output_type": "stream",
     "text": [
      "[4, 3, 2, 1]\n"
     ]
    }
   ],
   "source": [
    "ls_sample = [1, 2, 3, 4]\n",
    "ls_sample.reverse()\n",
    "print(ls_sample)"
   ]
  },
  {
   "cell_type": "markdown",
   "metadata": {},
   "source": [
    "But we will try to do it manually!"
   ]
  },
  {
   "cell_type": "code",
   "execution_count": 52,
   "metadata": {},
   "outputs": [],
   "source": [
    "def solution(list):\n",
    "    left, right = 0, len(list)-1\n",
    "    while left < right:\n",
    "        list[left], list[right] = list[right], list[left]\n",
    "        left += 1\n",
    "        right -= 1\n",
    "    return list"
   ]
  },
  {
   "cell_type": "code",
   "execution_count": 54,
   "metadata": {},
   "outputs": [
    {
     "data": {
      "text/plain": [
       "[7, 6, 5, 4, 3, 2, 1]"
      ]
     },
     "execution_count": 54,
     "metadata": {},
     "output_type": "execute_result"
    }
   ],
   "source": [
    "ls_sample = [1, 2, 3, 4, 5, 6, 7]\n",
    "solution(ls_sample)"
   ]
  },
  {
   "cell_type": "markdown",
   "metadata": {},
   "source": [
    "## 6. Make a function that receives a number and makes a series of numbers from 1 to received number. each 3, 6, 9 will be printed as a clap"
   ]
  },
  {
   "cell_type": "code",
   "execution_count": 8,
   "metadata": {},
   "outputs": [],
   "source": [
    "def solution(number):\n",
    "    ls_number = [num for num in range(1, number+1)]\n",
    "    \n",
    "    # iterate each number\n",
    "    for num in ls_number:\n",
    "        num = str(num)\n",
    "        \n",
    "        #iterate each character\n",
    "        if '3' in num or '6' in num or '9' in num:\n",
    "            for char in num:\n",
    "                if char == '3' or char == '6' or char == '9':\n",
    "                    print('(clap)', end='')\n",
    "            print(' ', end='')\n",
    "        else:\n",
    "            print(num, end=' ')"
   ]
  },
  {
   "cell_type": "code",
   "execution_count": 9,
   "metadata": {},
   "outputs": [
    {
     "name": "stdout",
     "output_type": "stream",
     "text": [
      "1 2 (clap) 4 5 (clap) 7 8 (clap) 10 11 12 (clap) 14 15 (clap) 17 18 (clap) 20 21 22 (clap) 24 25 (clap) 27 28 (clap) (clap) (clap) (clap) (clap)(clap) "
     ]
    }
   ],
   "source": [
    "solution(33)"
   ]
  },
  {
   "cell_type": "markdown",
   "metadata": {},
   "source": [
    "- make the same function one more time"
   ]
  },
  {
   "cell_type": "code",
   "execution_count": 12,
   "metadata": {},
   "outputs": [],
   "source": [
    "def solution(number):\n",
    "    list = [i for i in range(1, number+1)]\n",
    "    \n",
    "    for num in list:\n",
    "        num = str(num)\n",
    "        if ('3' in num) or ('6' in num) or ('9' in num):\n",
    "            for char in num:\n",
    "                if char == '3' or char == '6' or char == '9':\n",
    "                    print('(clap)', end='')\n",
    "            print(' ', end='')\n",
    "        else:\n",
    "            print(num, end=' ')"
   ]
  },
  {
   "cell_type": "code",
   "execution_count": 13,
   "metadata": {},
   "outputs": [
    {
     "name": "stdout",
     "output_type": "stream",
     "text": [
      "1 2 (clap) 4 5 (clap) 7 8 (clap) 10 11 12 (clap) 14 15 (clap) 17 18 (clap) 20 21 22 (clap) 24 25 (clap) 27 28 (clap) (clap) (clap) (clap) (clap)(clap) (clap) (clap) (clap)(clap) (clap) (clap) (clap)(clap) 40 "
     ]
    }
   ],
   "source": [
    "solution(40)"
   ]
  },
  {
   "cell_type": "markdown",
   "metadata": {},
   "source": [
    "# 7. Make a function that counts scores which meet requirements "
   ]
  },
  {
   "cell_type": "code",
   "execution_count": 14,
   "metadata": {},
   "outputs": [],
   "source": [
    "def solution(list):\n",
    "    cnt = 0\n",
    "    \n",
    "    for i in list:\n",
    "        if 650 <= i < 800:\n",
    "            cnt += 1\n",
    "    return cnt"
   ]
  },
  {
   "cell_type": "code",
   "execution_count": 15,
   "metadata": {},
   "outputs": [
    {
     "data": {
      "text/plain": [
       "3"
      ]
     },
     "execution_count": 15,
     "metadata": {},
     "output_type": "execute_result"
    }
   ],
   "source": [
    "scores = [600, 700, 800, 900, 550, 650, 750, 850]\n",
    "\n",
    "solution(scores)"
   ]
  },
  {
   "cell_type": "markdown",
   "metadata": {},
   "source": [
    "# 8. Make a function that confirms whether the input is a palindrome"
   ]
  },
  {
   "cell_type": "markdown",
   "metadata": {},
   "source": [
    "- make the function on my own way"
   ]
  },
  {
   "cell_type": "code",
   "execution_count": 16,
   "metadata": {},
   "outputs": [],
   "source": [
    "def solution(input):\n",
    "    input = input.replace(' ', '')\n",
    "    input = input.replace('.', '')\n",
    "    \n",
    "    start, end = 0, len(input)-1\n",
    "    while start < end:\n",
    "        if input[start] != input[end]:\n",
    "            return False\n",
    "        start += 1\n",
    "        end -= 1\n",
    "    return True"
   ]
  },
  {
   "cell_type": "code",
   "execution_count": 18,
   "metadata": {},
   "outputs": [
    {
     "name": "stdout",
     "output_type": "stream",
     "text": [
      "True\n",
      "True\n",
      "True\n",
      "False\n"
     ]
    }
   ],
   "source": [
    "sent1 = 'never odd or even'\n",
    "sent2 = 'racecar.'\n",
    "sent3 = 'noon'\n",
    "sent4 = 'This is not a palindrome'\n",
    "\n",
    "print(solution(sent1))\n",
    "print(solution(sent2))\n",
    "print(solution(sent3))\n",
    "print(solution(sent4))"
   ]
  },
  {
   "cell_type": "markdown",
   "metadata": {},
   "source": [
    "- follow the answer sheet"
   ]
  },
  {
   "cell_type": "code",
   "execution_count": 19,
   "metadata": {},
   "outputs": [],
   "source": [
    "def solution(sentence):\n",
    "    str = ''\n",
    "    for c in sentence:\n",
    "        if c != '.' and c != ' ':\n",
    "            str += c\n",
    "    \n",
    "    size = len(str)\n",
    "    for i in range(size//2):\n",
    "        if str[i] != str[size-1 -i]:\n",
    "            return False\n",
    "    return True"
   ]
  },
  {
   "cell_type": "code",
   "execution_count": 20,
   "metadata": {},
   "outputs": [
    {
     "name": "stdout",
     "output_type": "stream",
     "text": [
      "True\n",
      "True\n",
      "True\n",
      "False\n"
     ]
    }
   ],
   "source": [
    "sent1 = 'never odd or even'\n",
    "sent2 = 'racecar.'\n",
    "sent3 = 'noon'\n",
    "sent4 = 'This is not a palindrome'\n",
    "\n",
    "print(solution(sent1))\n",
    "print(solution(sent2))\n",
    "print(solution(sent3))\n",
    "print(solution(sent4))"
   ]
  },
  {
   "cell_type": "markdown",
   "metadata": {},
   "source": [
    "# 9. Make a function that gets rid of spellings which are duplicate"
   ]
  },
  {
   "cell_type": "code",
   "execution_count": 23,
   "metadata": {},
   "outputs": [],
   "source": [
    "def solution(sent):\n",
    "    result = sent[0]\n",
    "    for i in range(1, len(sent)):\n",
    "        if sent[i] != sent[i-1]:\n",
    "            result += sent[i]\n",
    "    return result"
   ]
  },
  {
   "cell_type": "code",
   "execution_count": 25,
   "metadata": {},
   "outputs": [
    {
     "data": {
      "text/plain": [
       "'Where are you from?'"
      ]
     },
     "execution_count": 25,
     "metadata": {},
     "output_type": "execute_result"
    }
   ],
   "source": [
    "sentence = 'Wheeeere aaaare yooooou frooooom?'\n",
    "solution(sentence)"
   ]
  },
  {
   "cell_type": "markdown",
   "metadata": {},
   "source": [
    "- make the same function again on the basis of the answer sheet"
   ]
  },
  {
   "cell_type": "code",
   "execution_count": 31,
   "metadata": {},
   "outputs": [],
   "source": [
    "def solution(sent):\n",
    "    result = ''\n",
    "    result += sent[0]\n",
    "    \n",
    "    for i in range(1, len(sent)):\n",
    "        if sent[i-1] != sent[i]:\n",
    "            result += sent[i]\n",
    "    \n",
    "    return result"
   ]
  },
  {
   "cell_type": "code",
   "execution_count": 32,
   "metadata": {},
   "outputs": [
    {
     "data": {
      "text/plain": [
       "\"hi what's your name?\""
      ]
     },
     "execution_count": 32,
     "metadata": {},
     "output_type": "execute_result"
    }
   ],
   "source": [
    "sent = \"hiiii whatttt's yooourrr naaame?\"\n",
    "solution(sent)"
   ]
  },
  {
   "cell_type": "markdown",
   "metadata": {},
   "source": [
    "# 10. Make a function that calculates how many numbers are smaller than average"
   ]
  },
  {
   "cell_type": "code",
   "execution_count": 37,
   "metadata": {},
   "outputs": [],
   "source": [
    "def get_average(list):\n",
    "    total = 0\n",
    "    for i in list:\n",
    "        total += i\n",
    "    average = total / len(list)\n",
    "    return average\n",
    "\n",
    "def solution(list):\n",
    "    average = get_average(list)\n",
    "    \n",
    "    cnt = 0\n",
    "    for i in list:\n",
    "        if i < average:\n",
    "            cnt += 1\n",
    "    \n",
    "    return cnt"
   ]
  },
  {
   "cell_type": "code",
   "execution_count": 40,
   "metadata": {},
   "outputs": [
    {
     "name": "stdout",
     "output_type": "stream",
     "text": [
      "8.428571428571429\n"
     ]
    },
    {
     "data": {
      "text/plain": [
       "3"
      ]
     },
     "execution_count": 40,
     "metadata": {},
     "output_type": "execute_result"
    }
   ],
   "source": [
    "numbers = [1, 2, 3, 10, 11, 12, 20]\n",
    "\n",
    "print(get_average(numbers))\n",
    "solution(numbers)"
   ]
  },
  {
   "cell_type": "markdown",
   "metadata": {},
   "source": [
    "- repeat the task again based on the answer sheet"
   ]
  },
  {
   "cell_type": "code",
   "execution_count": 41,
   "metadata": {},
   "outputs": [],
   "source": [
    "def solution(list):\n",
    "    total = sum(list)\n",
    "    average = total / len(list)\n",
    "    \n",
    "    cnt = 0\n",
    "    for i in list:\n",
    "        if i <=average:\n",
    "            cnt += 1\n",
    "    \n",
    "    return cnt"
   ]
  },
  {
   "cell_type": "code",
   "execution_count": 43,
   "metadata": {},
   "outputs": [
    {
     "name": "stdout",
     "output_type": "stream",
     "text": [
      "8.428571428571429\n"
     ]
    },
    {
     "data": {
      "text/plain": [
       "3"
      ]
     },
     "execution_count": 43,
     "metadata": {},
     "output_type": "execute_result"
    }
   ],
   "source": [
    "numbers = [1, 2, 3, 10, 11, 12, 20]\n",
    "\n",
    "print(sum(numbers)/len(numbers))\n",
    "solution(numbers)"
   ]
  }
 ],
 "metadata": {
  "kernelspec": {
   "display_name": "Python 3",
   "language": "python",
   "name": "python3"
  },
  "language_info": {
   "codemirror_mode": {
    "name": "ipython",
    "version": 3
   },
   "file_extension": ".py",
   "mimetype": "text/x-python",
   "name": "python",
   "nbconvert_exporter": "python",
   "pygments_lexer": "ipython3",
   "version": "3.6.9"
  }
 },
 "nbformat": 4,
 "nbformat_minor": 2
}
