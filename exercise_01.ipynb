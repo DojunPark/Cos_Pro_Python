{
 "cells": [
  {
   "cell_type": "markdown",
   "metadata": {},
   "source": [
    "# Professional Coding Specialist COS Pro level 2 - python \n",
    "# `exercise 1`"
   ]
  },
  {
   "cell_type": "markdown",
   "metadata": {},
   "source": [
    "## 1. Make a function to count each shirt size"
   ]
  },
  {
   "cell_type": "code",
   "execution_count": 9,
   "metadata": {},
   "outputs": [],
   "source": [
    "def solution(shirt_size):\n",
    "    \n",
    "    count = [0, 0, 0, 0, 0, 0]\n",
    "    \n",
    "    for size in shirt_size:\n",
    "        if size == 'XS':\n",
    "            count[0] += 1\n",
    "        elif size == 'S':\n",
    "            count[1] += 1\n",
    "        elif size == 'M':\n",
    "            count[2] += 1\n",
    "        elif size == 'L':\n",
    "            count[3] += 1\n",
    "        elif size == 'XL':\n",
    "            count[4] += 1\n",
    "        elif size == 'XXL':\n",
    "            count[5] += 1\n",
    "    \n",
    "    return count"
   ]
  },
  {
   "cell_type": "code",
   "execution_count": 10,
   "metadata": {},
   "outputs": [
    {
     "data": {
      "text/plain": [
       "[1, 2, 1, 3, 1, 2]"
      ]
     },
     "execution_count": 10,
     "metadata": {},
     "output_type": "execute_result"
    }
   ],
   "source": [
    "size_list = ['XS', 'S', 'S', 'M', 'L', 'L', 'L', 'XL', 'XXL', 'XXL']\n",
    "solution(size_list)"
   ]
  },
  {
   "cell_type": "markdown",
   "metadata": {},
   "source": [
    "- It is also possible to make a count list with list comprehension"
   ]
  },
  {
   "cell_type": "code",
   "execution_count": 14,
   "metadata": {},
   "outputs": [],
   "source": [
    "def solution(shirt_size):\n",
    "    \n",
    "    # here list comprehension\n",
    "    count = [0 for _ in range(6)]\n",
    "    \n",
    "    for size in shirt_size:\n",
    "        if size == 'XS':\n",
    "            count[0] += 1\n",
    "        elif size == 'S':\n",
    "            count[1] += 1\n",
    "        elif size == 'M':\n",
    "            count[2] += 1\n",
    "        elif size == 'L':\n",
    "            count[3] += 1\n",
    "        elif size == 'XL':\n",
    "            count[4] += 1\n",
    "        elif size == 'XXL':\n",
    "            count[5] += 1\n",
    "    \n",
    "    return count"
   ]
  },
  {
   "cell_type": "code",
   "execution_count": 15,
   "metadata": {},
   "outputs": [
    {
     "data": {
      "text/plain": [
       "[1, 2, 1, 3, 1, 2]"
      ]
     },
     "execution_count": 15,
     "metadata": {},
     "output_type": "execute_result"
    }
   ],
   "source": [
    "size_list = ['XS', 'S', 'S', 'M', 'L', 'L', 'L', 'XL', 'XXL', 'XXL']\n",
    "solution(size_list)"
   ]
  },
  {
   "cell_type": "markdown",
   "metadata": {},
   "source": [
    "## 2. Make a function to calculate how much you have to pay"
   ]
  },
  {
   "cell_type": "code",
   "execution_count": 16,
   "metadata": {},
   "outputs": [],
   "source": [
    "def solution(price, grade):\n",
    "    \n",
    "    if grade == 'S':\n",
    "        payment = price * (1 - 0.05)\n",
    "    elif grade == 'G':\n",
    "        payment = price * (1 - 0.10)\n",
    "    elif grade == 'V':\n",
    "        payment = price * (1 - 0.15)\n",
    "    \n",
    "    return payment"
   ]
  },
  {
   "cell_type": "code",
   "execution_count": 17,
   "metadata": {},
   "outputs": [
    {
     "data": {
      "text/plain": [
       "9000.0"
      ]
     },
     "execution_count": 17,
     "metadata": {},
     "output_type": "execute_result"
    }
   ],
   "source": [
    "solution(10000, 'G')"
   ]
  },
  {
   "cell_type": "markdown",
   "metadata": {},
   "source": [
    "- It is common to print out the price as interger type, so use int() function before return the final value!"
   ]
  },
  {
   "cell_type": "code",
   "execution_count": 18,
   "metadata": {},
   "outputs": [],
   "source": [
    "def solution(price, grade):\n",
    "    \n",
    "    if grade == 'S':\n",
    "        payment = price * (1 - 0.05)\n",
    "    elif grade == 'G':\n",
    "        payment = price * (1 - 0.10)\n",
    "    elif grade == 'V':\n",
    "        payment = price * (1 - 0.15)\n",
    "    \n",
    "    return int(payment)"
   ]
  },
  {
   "cell_type": "code",
   "execution_count": 19,
   "metadata": {},
   "outputs": [
    {
     "data": {
      "text/plain": [
       "9000"
      ]
     },
     "execution_count": 19,
     "metadata": {},
     "output_type": "execute_result"
    }
   ],
   "source": [
    "solution(10000, 'G')"
   ]
  },
  {
   "cell_type": "markdown",
   "metadata": {},
   "source": [
    "## 3. Make a function to count how many days are between two input dates"
   ]
  },
  {
   "cell_type": "code",
   "execution_count": 28,
   "metadata": {},
   "outputs": [],
   "source": [
    "# function that counts days from January 1. to input date\n",
    "def func(month, day):\n",
    "    month_list = [31, 28, 31, 30, 31, 30, 31, 31, 30 ,31, 30, 31]\n",
    "    total = 0\n",
    "    for i in range(month - 1):\n",
    "        total += month_list[i]\n",
    "    total += day\n",
    "    return total - 1\n",
    "\n",
    "# function that subtracts end days trom start days \n",
    "# (return value is the dates counted between two days) \n",
    "def solution(start_m, start_d, end_m, end_d):\n",
    "    start_days = func(start_m, start_d)\n",
    "    end_days = func(end_m, end_d)\n",
    "    return end_days - start_days"
   ]
  },
  {
   "cell_type": "code",
   "execution_count": 27,
   "metadata": {},
   "outputs": [
    {
     "data": {
      "text/plain": [
       "30"
      ]
     },
     "execution_count": 27,
     "metadata": {},
     "output_type": "execute_result"
    }
   ],
   "source": [
    "solution(1, 16, 2, 15)"
   ]
  },
  {
   "cell_type": "markdown",
   "metadata": {},
   "source": [
    "- Let's the same function one more time"
   ]
  },
  {
   "cell_type": "code",
   "execution_count": 31,
   "metadata": {},
   "outputs": [],
   "source": [
    "def func(month, day):\n",
    "    month_list = [31, 28, 31, 30, 31, 30, 31, 31, 30, 31, 30, 31]\n",
    "    total = 0\n",
    "    for i in range(month - 1):\n",
    "        total += month_list[i]\n",
    "    total += (day - 1)\n",
    "    return total\n",
    "\n",
    "def solution(start_m, start_d, end_m, end_d):\n",
    "    start_days = func(start_m, start_d)\n",
    "    end_days = func(end_m, end_d)\n",
    "    return end_days - start_days"
   ]
  },
  {
   "cell_type": "code",
   "execution_count": 32,
   "metadata": {},
   "outputs": [
    {
     "data": {
      "text/plain": [
       "89"
      ]
     },
     "execution_count": 32,
     "metadata": {},
     "output_type": "execute_result"
    }
   ],
   "source": [
    "solution(7, 15, 10, 12)"
   ]
  },
  {
   "cell_type": "markdown",
   "metadata": {},
   "source": [
    "## 4. Make a function that calculates how many times the most frequent number appears than the least frequent number"
   ]
  },
  {
   "cell_type": "code",
   "execution_count": 42,
   "metadata": {},
   "outputs": [],
   "source": [
    "def func_count(list):\n",
    "    count = [0 for _ in range(1000+1)]\n",
    "    for i in list:\n",
    "        count[i] += 1\n",
    "    return count\n",
    "\n",
    "def func_max(cnt_list):\n",
    "    max = 0\n",
    "    for i in cnt_list:\n",
    "        if max < i:\n",
    "            max = i\n",
    "    return max\n",
    "\n",
    "def func_min(cnt_list):\n",
    "    min = 1001\n",
    "    for i in cnt_list:\n",
    "        if min > i and i != 0:\n",
    "            min = i\n",
    "    return min\n",
    "\n",
    "def solution(list):\n",
    "    cnt_ls = func_count(list)\n",
    "    max = func_max(cnt_ls)\n",
    "    min = func_min(cnt_ls)\n",
    "    return max // min"
   ]
  },
  {
   "cell_type": "code",
   "execution_count": 43,
   "metadata": {},
   "outputs": [
    {
     "data": {
      "text/plain": [
       "4"
      ]
     },
     "execution_count": 43,
     "metadata": {},
     "output_type": "execute_result"
    }
   ],
   "source": [
    "ls1 = [1, 2, 3, 4, 44, 22, 21, 45, 75, 32, 45, 31, 1, 2, 4, 2, 3, 2, 1, 4]\n",
    "solution(ls1)"
   ]
  },
  {
   "cell_type": "markdown",
   "metadata": {},
   "source": [
    "- count frequency and return how many times each number appeared and what number it is"
   ]
  },
  {
   "cell_type": "code",
   "execution_count": 44,
   "metadata": {},
   "outputs": [],
   "source": [
    "def func_count(list):\n",
    "    count = [0 for _ in range(1000+1)]\n",
    "    for i in list:\n",
    "        count[i] += 1\n",
    "    return count\n",
    "\n",
    "def func_max(cnt_list):\n",
    "    max = 0\n",
    "    max_idx = 0\n",
    "    for idx, i in enumerate(cnt_list):\n",
    "        if max < i:\n",
    "            max = i\n",
    "            max_idx = idx\n",
    "    return max_idx, max\n",
    "\n",
    "def func_min(cnt_list):\n",
    "    min = 1001\n",
    "    min_idx = 0\n",
    "    for idx, i in enumerate(cnt_list):\n",
    "        if min > i and i != 0:\n",
    "            min = i\n",
    "            min_idx = idx\n",
    "    return min_idx, min"
   ]
  },
  {
   "cell_type": "code",
   "execution_count": 47,
   "metadata": {},
   "outputs": [
    {
     "name": "stdout",
     "output_type": "stream",
     "text": [
      "(2, 4)\n",
      "(21, 1)\n"
     ]
    }
   ],
   "source": [
    "ls1 = [1, 2, 3, 4, 44, 22, 21, 45, 75, 32, 45, 31, 1, 2, 4, 2, 3, 2, 1, 4]\n",
    "\n",
    "cnt_ls = func_count(ls1)\n",
    "\n",
    "print(func_max(cnt_ls))\n",
    "print(func_min(cnt_ls))"
   ]
  },
  {
   "cell_type": "markdown",
   "metadata": {},
   "source": [
    "## 5. Make a function that reverts the order of input list"
   ]
  },
  {
   "cell_type": "markdown",
   "metadata": {},
   "source": [
    "with python methode, it works very easily"
   ]
  },
  {
   "cell_type": "code",
   "execution_count": 51,
   "metadata": {},
   "outputs": [
    {
     "name": "stdout",
     "output_type": "stream",
     "text": [
      "[4, 3, 2, 1]\n"
     ]
    }
   ],
   "source": [
    "ls_sample = [1, 2, 3, 4]\n",
    "ls_sample.reverse()\n",
    "print(ls_sample)"
   ]
  },
  {
   "cell_type": "markdown",
   "metadata": {},
   "source": [
    "But we will try to do it manually!"
   ]
  },
  {
   "cell_type": "code",
   "execution_count": 52,
   "metadata": {},
   "outputs": [],
   "source": [
    "def solution(list):\n",
    "    left, right = 0, len(list)-1\n",
    "    while left < right:\n",
    "        list[left], list[right] = list[right], list[left]\n",
    "        left += 1\n",
    "        right -= 1\n",
    "    return list"
   ]
  },
  {
   "cell_type": "code",
   "execution_count": 54,
   "metadata": {},
   "outputs": [
    {
     "data": {
      "text/plain": [
       "[7, 6, 5, 4, 3, 2, 1]"
      ]
     },
     "execution_count": 54,
     "metadata": {},
     "output_type": "execute_result"
    }
   ],
   "source": [
    "ls_sample = [1, 2, 3, 4, 5, 6, 7]\n",
    "solution(ls_sample)"
   ]
  },
  {
   "cell_type": "markdown",
   "metadata": {},
   "source": [
    "## 6. Make a function that figure out whether each number in the list contains 3, 6, 9"
   ]
  },
  {
   "cell_type": "code",
   "execution_count": 122,
   "metadata": {},
   "outputs": [],
   "source": [
    "def solution(number):\n",
    "    ls_number = [num for num in range(1, number+1)]\n",
    "    \n",
    "    # iterate each number\n",
    "    for num in ls_number:\n",
    "        num = str(num)\n",
    "        \n",
    "        #iterate each character\n",
    "        if '3' in num or '6' in num or '9' in num:\n",
    "            for char in num:\n",
    "                if char == '3' or char == '6' or char == '9':\n",
    "                    print('clap', end='')\n",
    "                print()\n",
    "        else:\n",
    "            print(num)"
   ]
  },
  {
   "cell_type": "code",
   "execution_count": 123,
   "metadata": {},
   "outputs": [
    {
     "name": "stdout",
     "output_type": "stream",
     "text": [
      "1\n",
      "2\n",
      "clap\n",
      "4\n",
      "5\n",
      "clap\n",
      "7\n",
      "8\n",
      "clap\n",
      "10\n",
      "11\n",
      "12\n",
      "\n",
      "clap\n",
      "14\n",
      "15\n",
      "\n",
      "clap\n",
      "17\n",
      "18\n",
      "\n",
      "clap\n",
      "20\n",
      "21\n",
      "22\n",
      "\n",
      "clap\n",
      "24\n",
      "25\n",
      "\n",
      "clap\n",
      "27\n",
      "28\n",
      "\n",
      "clap\n",
      "clap\n",
      "\n",
      "clap\n",
      "\n",
      "clap\n",
      "\n",
      "clap\n",
      "clap\n"
     ]
    }
   ],
   "source": [
    "solution(33)"
   ]
  },
  {
   "cell_type": "code",
   "execution_count": null,
   "metadata": {},
   "outputs": [],
   "source": []
  },
  {
   "cell_type": "code",
   "execution_count": null,
   "metadata": {},
   "outputs": [],
   "source": []
  },
  {
   "cell_type": "code",
   "execution_count": null,
   "metadata": {},
   "outputs": [],
   "source": []
  },
  {
   "cell_type": "code",
   "execution_count": null,
   "metadata": {},
   "outputs": [],
   "source": []
  },
  {
   "cell_type": "code",
   "execution_count": null,
   "metadata": {},
   "outputs": [],
   "source": []
  },
  {
   "cell_type": "code",
   "execution_count": null,
   "metadata": {},
   "outputs": [],
   "source": []
  },
  {
   "cell_type": "code",
   "execution_count": null,
   "metadata": {},
   "outputs": [],
   "source": []
  },
  {
   "cell_type": "code",
   "execution_count": null,
   "metadata": {},
   "outputs": [],
   "source": []
  },
  {
   "cell_type": "code",
   "execution_count": null,
   "metadata": {},
   "outputs": [],
   "source": []
  },
  {
   "cell_type": "code",
   "execution_count": null,
   "metadata": {},
   "outputs": [],
   "source": []
  },
  {
   "cell_type": "code",
   "execution_count": null,
   "metadata": {},
   "outputs": [],
   "source": []
  },
  {
   "cell_type": "code",
   "execution_count": null,
   "metadata": {},
   "outputs": [],
   "source": []
  },
  {
   "cell_type": "code",
   "execution_count": null,
   "metadata": {},
   "outputs": [],
   "source": []
  },
  {
   "cell_type": "code",
   "execution_count": null,
   "metadata": {},
   "outputs": [],
   "source": []
  },
  {
   "cell_type": "code",
   "execution_count": null,
   "metadata": {},
   "outputs": [],
   "source": []
  },
  {
   "cell_type": "code",
   "execution_count": null,
   "metadata": {},
   "outputs": [],
   "source": []
  },
  {
   "cell_type": "code",
   "execution_count": null,
   "metadata": {},
   "outputs": [],
   "source": []
  },
  {
   "cell_type": "code",
   "execution_count": null,
   "metadata": {},
   "outputs": [],
   "source": []
  },
  {
   "cell_type": "code",
   "execution_count": null,
   "metadata": {},
   "outputs": [],
   "source": []
  },
  {
   "cell_type": "code",
   "execution_count": null,
   "metadata": {},
   "outputs": [],
   "source": []
  },
  {
   "cell_type": "code",
   "execution_count": null,
   "metadata": {},
   "outputs": [],
   "source": []
  },
  {
   "cell_type": "code",
   "execution_count": null,
   "metadata": {},
   "outputs": [],
   "source": []
  },
  {
   "cell_type": "code",
   "execution_count": null,
   "metadata": {},
   "outputs": [],
   "source": []
  }
 ],
 "metadata": {
  "kernelspec": {
   "display_name": "Python 3",
   "language": "python",
   "name": "python3"
  },
  "language_info": {
   "codemirror_mode": {
    "name": "ipython",
    "version": 3
   },
   "file_extension": ".py",
   "mimetype": "text/x-python",
   "name": "python",
   "nbconvert_exporter": "python",
   "pygments_lexer": "ipython3",
   "version": "3.6.9"
  }
 },
 "nbformat": 4,
 "nbformat_minor": 2
}
