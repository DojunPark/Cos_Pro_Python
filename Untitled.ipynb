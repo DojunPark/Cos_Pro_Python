{
 "cells": [
  {
   "cell_type": "code",
   "execution_count": null,
   "metadata": {},
   "outputs": [],
   "source": [
    "- Making a function that calculates football field rental fee\n",
    "- Making a function that calculates the order amount of the football shoes\n",
    "- Making a function that subtracts the second maximum value from the first maximum value\n",
    "- Making a function that counts number of person by grade\n",
    "- Making a function that counts frequencies\n",
    "- Making a function that counts how many persons are heavier than 'k'\n",
    "- Making a function that changes certain characters in the input string\n",
    "- Making a function that counts names which contains certain characters\n",
    "- Making a function that get total box amount needed\n",
    "- Making a function that checks if the input ISBN numbers are valid"
   ]
  }
 ],
 "metadata": {
  "kernelspec": {
   "display_name": "Python 3",
   "language": "python",
   "name": "python3"
  },
  "language_info": {
   "codemirror_mode": {
    "name": "ipython",
    "version": 3
   },
   "file_extension": ".py",
   "mimetype": "text/x-python",
   "name": "python",
   "nbconvert_exporter": "python",
   "pygments_lexer": "ipython3",
   "version": "3.6.9"
  }
 },
 "nbformat": 4,
 "nbformat_minor": 2
}
