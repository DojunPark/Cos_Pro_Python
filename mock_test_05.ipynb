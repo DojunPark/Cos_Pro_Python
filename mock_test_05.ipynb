{
 "cells": [
  {
   "cell_type": "markdown",
   "metadata": {},
   "source": [
    "# Professional Coding Specialist COS Pro level 2 - python\n",
    "# `mock test 5`"
   ]
  },
  {
   "cell_type": "markdown",
   "metadata": {},
   "source": [
    "# 1. Make a function that returns number how many times charged"
   ]
  },
  {
   "cell_type": "code",
   "execution_count": 41,
   "metadata": {},
   "outputs": [],
   "source": [
    "def solution(arr):\n",
    "    answer = 0\n",
    "    battery = 40\n",
    "    for i in arr:\n",
    "        if i > battery:\n",
    "            answer += 1\n",
    "            battery = 40\n",
    "        battery -= i\n",
    "    return answer"
   ]
  },
  {
   "cell_type": "code",
   "execution_count": 42,
   "metadata": {},
   "outputs": [
    {
     "data": {
      "text/plain": [
       "2"
      ]
     },
     "execution_count": 42,
     "metadata": {},
     "output_type": "execute_result"
    }
   ],
   "source": [
    "samples = [20, 10, 30, 30]\n",
    "solution(samples)"
   ]
  },
  {
   "cell_type": "markdown",
   "metadata": {},
   "source": [
    "one more time"
   ]
  },
  {
   "cell_type": "code",
   "execution_count": 43,
   "metadata": {},
   "outputs": [],
   "source": [
    "def solution(arr):\n",
    "    answer = 0\n",
    "    energy = 40\n",
    "    for i in arr:\n",
    "        if energy < i:\n",
    "            energy = 40\n",
    "            answer += 1\n",
    "        energy -= i\n",
    "    return answer"
   ]
  },
  {
   "cell_type": "markdown",
   "metadata": {},
   "source": [
    "# 2. Make a function that offers discout for every 4th. item"
   ]
  },
  {
   "cell_type": "code",
   "execution_count": 44,
   "metadata": {},
   "outputs": [],
   "source": [
    "def solution(arr):\n",
    "    answer = 0\n",
    "    for i in range(len(arr)):\n",
    "        price = arr[i]\n",
    "        if (i+1) % 4 == 0:\n",
    "            price //= 2\n",
    "        answer += price\n",
    "    return answer"
   ]
  },
  {
   "cell_type": "markdown",
   "metadata": {},
   "source": [
    "# 3. Make a function that returns total sales"
   ]
  },
  {
   "cell_type": "code",
   "execution_count": 45,
   "metadata": {},
   "outputs": [],
   "source": [
    "def func_a(a, length):\n",
    "    for i in range(len(a)):\n",
    "        if a[i] >= length:\n",
    "            return i\n",
    "    return -1\n",
    "\n",
    "def solution(N, orders):\n",
    "    material = [8 for _ in range(N)]\n",
    "    k = 0\n",
    "    price = 0\n",
    "    for o in orders:\n",
    "        k = func_a(material, o)\n",
    "        if k >= 0:\n",
    "            material[k] -= o\n",
    "            price += 3000 * o\n",
    "        return price"
   ]
  },
  {
   "cell_type": "markdown",
   "metadata": {},
   "source": [
    "# 4. Make a function that returns input alphbets as numbers"
   ]
  },
  {
   "cell_type": "code",
   "execution_count": 46,
   "metadata": {},
   "outputs": [],
   "source": [
    "def solution(word):\n",
    "    num2alpha = ['oqz', 'ij', 'abc', 'def', 'gh', 'kl', 'mn', 'prs', 'tuv', 'wxy']\n",
    "    answer = ''\n",
    "    for c in word:\n",
    "        for i in range(len(num2alpha)):\n",
    "            for i in num2alpha[i]:\n",
    "                if a == c:\n",
    "                    answer += str(i)\n",
    "                    break\n",
    "    return answer"
   ]
  },
  {
   "cell_type": "markdown",
   "metadata": {},
   "source": [
    "# 5. Make a function that returns total cost of parking lot"
   ]
  },
  {
   "cell_type": "code",
   "execution_count": 47,
   "metadata": {},
   "outputs": [],
   "source": [
    "def func_a(a):\n",
    "    return ((a // 100) * 60) + (a % 100)\n",
    "\n",
    "def solution(arr):\n",
    "    answer = 0\n",
    "    min_a = func_a(2200)\n",
    "    for i in arr:\n",
    "        min_b = func_a(i)\n",
    "        elapsed_minute = min_a - min_b\n",
    "        answer += 1000 + (elapsed_minute // 10) * 500\n",
    "    return answer"
   ]
  },
  {
   "cell_type": "markdown",
   "metadata": {},
   "source": [
    "# 6. Make a function that counts people standing in train and returns biggest number"
   ]
  },
  {
   "cell_type": "code",
   "execution_count": 48,
   "metadata": {},
   "outputs": [],
   "source": [
    "def solution(down, up):\n",
    "    answer = 0\n",
    "    passenger = 0\n",
    "    n = len(down)\n",
    "    for i in range(n):\n",
    "        passenger += up[i] - down[i]\n",
    "        stand = passenger - 240\n",
    "        if stand < 0:\n",
    "            stand = 0\n",
    "        if stand > 0 and stand > answer:\n",
    "            answer = stand\n",
    "    return answer"
   ]
  },
  {
   "cell_type": "markdown",
   "metadata": {},
   "source": [
    "# 7. Make a function that calculates the profit from sales"
   ]
  },
  {
   "cell_type": "code",
   "execution_count": 49,
   "metadata": {},
   "outputs": [],
   "source": [
    "def func_a(a):\n",
    "    min = a[0]\n",
    "    for i in a:\n",
    "        if i < min:\n",
    "            min = i\n",
    "    return min\n",
    "\n",
    "def solution(price):\n",
    "    sales = [0 for _ in range(len(price))]\n",
    "    for i in price:\n",
    "        if i[0] < 5000:\n",
    "            percent = 0.25\n",
    "        elif i[0] < 15000:\n",
    "            percent = 0.20\n",
    "        elif i[0] < 100000:\n",
    "            percent = 0.15\n",
    "        else:\n",
    "            percent = 0.1\n",
    "        sales[i] = i[0] * percent * i[1]\n",
    "    return func_a(sales)"
   ]
  },
  {
   "cell_type": "markdown",
   "metadata": {},
   "source": [
    "# 8. Make a function that returns area of triangle"
   ]
  },
  {
   "cell_type": "code",
   "execution_count": 52,
   "metadata": {},
   "outputs": [],
   "source": [
    "def solution(x, y):\n",
    "    answer = 0\n",
    "    b1 = y - x\n",
    "    b2 = y + x\n",
    "    a1 = (y * (x-b1)) / 2.0\n",
    "    a2 = (y * (b2-x)) / 2.0\n",
    "    answer = a1 + a2\n",
    "    return answer"
   ]
  },
  {
   "cell_type": "code",
   "execution_count": 53,
   "metadata": {},
   "outputs": [
    {
     "data": {
      "text/plain": [
       "6.0"
      ]
     },
     "execution_count": 53,
     "metadata": {},
     "output_type": "execute_result"
    }
   ],
   "source": [
    "solution(3, 2)"
   ]
  },
  {
   "cell_type": "markdown",
   "metadata": {},
   "source": [
    "# 9. Make a function that plays \"up-down\" game"
   ]
  },
  {
   "cell_type": "code",
   "execution_count": 54,
   "metadata": {},
   "outputs": [],
   "source": [
    "def solution(answer):\n",
    "    min = 1\n",
    "    max = 100\n",
    "    result = 0\n",
    "    for i in answer:\n",
    "        result = (max + min) / 2\n",
    "        if min == max or i == 'c':\n",
    "            break\n",
    "        if i == 'u':\n",
    "            max = result\n",
    "        if i == 'd':\n",
    "            min = result\n",
    "    return result"
   ]
  },
  {
   "cell_type": "markdown",
   "metadata": {},
   "source": [
    "# 10. Make a function that calculates electricity bill by household"
   ]
  },
  {
   "cell_type": "code",
   "execution_count": 55,
   "metadata": {},
   "outputs": [],
   "source": [
    "def solution(wats, bill):\n",
    "    result = [0 for _ in range(8)]\n",
    "    unit_price = int(bill / wats[0]) + 1\n",
    "    for i in range(len(wats)-1):\n",
    "        result[i] = wats[i+1] * unit_price\n",
    "    return result"
   ]
  }
 ],
 "metadata": {
  "kernelspec": {
   "display_name": "Python 3",
   "language": "python",
   "name": "python3"
  },
  "language_info": {
   "codemirror_mode": {
    "name": "ipython",
    "version": 3
   },
   "file_extension": ".py",
   "mimetype": "text/x-python",
   "name": "python",
   "nbconvert_exporter": "python",
   "pygments_lexer": "ipython3",
   "version": "3.6.9"
  }
 },
 "nbformat": 4,
 "nbformat_minor": 2
}
