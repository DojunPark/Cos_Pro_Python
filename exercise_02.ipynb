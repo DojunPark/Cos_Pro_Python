{
 "cells": [
  {
   "cell_type": "markdown",
   "metadata": {},
   "source": [
    "# Professional Coding Specialist COS Pro level 2 - python \n",
    "# `exercise 2`"
   ]
  },
  {
   "cell_type": "markdown",
   "metadata": {},
   "source": [
    "# 11. Make a function that summates all numbers from a to b"
   ]
  },
  {
   "cell_type": "code",
   "execution_count": 8,
   "metadata": {},
   "outputs": [],
   "source": [
    "def solution(a, b):\n",
    "    list = [i for i in range(a, b+1)]\n",
    "    \n",
    "    total = 0\n",
    "    for i in list:\n",
    "        total += i\n",
    "#     total = sum(list)\n",
    "    \n",
    "    return total"
   ]
  },
  {
   "cell_type": "code",
   "execution_count": 9,
   "metadata": {},
   "outputs": [
    {
     "data": {
      "text/plain": [
       "45"
      ]
     },
     "execution_count": 9,
     "metadata": {},
     "output_type": "execute_result"
    }
   ],
   "source": [
    "solution(5, 10)"
   ]
  },
  {
   "cell_type": "markdown",
   "metadata": {},
   "source": [
    "follow the answer sheet guide\n",
    "- 1. calculate total summation of all integers between 1 and b\n",
    "- 2. calculate total summation of all integers between 1 and a - 1\n",
    "- 3. substract 2 from 1"
   ]
  },
  {
   "cell_type": "code",
   "execution_count": 9,
   "metadata": {},
   "outputs": [],
   "source": [
    "def func(num):\n",
    "    sum = 0\n",
    "    for i in range(1, num+1):\n",
    "        sum += i\n",
    "    return sum\n",
    "\n",
    "def solution(a, b):\n",
    "    start = func(a-1)\n",
    "    end = func(b)\n",
    "    result = end - start\n",
    "    return result"
   ]
  },
  {
   "cell_type": "code",
   "execution_count": 13,
   "metadata": {},
   "outputs": [
    {
     "name": "stdout",
     "output_type": "stream",
     "text": [
      "3\n",
      "15\n",
      "12\n"
     ]
    }
   ],
   "source": [
    "print(func(3-1))\n",
    "print(func(5))\n",
    "print(solution(3, 5))"
   ]
  },
  {
   "cell_type": "markdown",
   "metadata": {},
   "source": [
    "# 12. Make a function that calculates total summation without maximum and minimum value"
   ]
  },
  {
   "cell_type": "code",
   "execution_count": 1,
   "metadata": {},
   "outputs": [],
   "source": [
    "def solution(list):\n",
    "    max = 0\n",
    "    min = 101\n",
    "    \n",
    "    for i in list:\n",
    "        if i > max:\n",
    "            max = i\n",
    "        if i < min:\n",
    "            min = i\n",
    "    \n",
    "    total = 0\n",
    "    for i in list:\n",
    "        if i == max or i == min:\n",
    "            continue\n",
    "        total += i\n",
    "    \n",
    "    return total"
   ]
  },
  {
   "cell_type": "code",
   "execution_count": 2,
   "metadata": {},
   "outputs": [
    {
     "data": {
      "text/plain": [
       "9"
      ]
     },
     "execution_count": 2,
     "metadata": {},
     "output_type": "execute_result"
    }
   ],
   "source": [
    "ls_num = [1, 2, 3, 4, 5]\n",
    "solution(ls_num)"
   ]
  },
  {
   "cell_type": "markdown",
   "metadata": {},
   "source": [
    "make the same function and follow the answer sheet"
   ]
  },
  {
   "cell_type": "code",
   "execution_count": 16,
   "metadata": {},
   "outputs": [],
   "source": [
    "def get_max(list):\n",
    "    max = 0\n",
    "    for i in list:\n",
    "        if i > max:\n",
    "            max = i\n",
    "    return max\n",
    "\n",
    "def get_min(list):\n",
    "    min = 101\n",
    "    for i in list:\n",
    "        if i < min:\n",
    "            min = i\n",
    "    return min\n",
    "def get_sum(list):\n",
    "    sum = 0\n",
    "    for i in list:\n",
    "        sum += i\n",
    "    return sum\n",
    "\n",
    "def solution(list):\n",
    "    sum = get_sum(list)\n",
    "    max = get_max(list)\n",
    "    min = get_min(list)\n",
    "    return sum - max - min"
   ]
  },
  {
   "cell_type": "code",
   "execution_count": 17,
   "metadata": {},
   "outputs": [
    {
     "data": {
      "text/plain": [
       "9"
      ]
     },
     "execution_count": 17,
     "metadata": {},
     "output_type": "execute_result"
    }
   ],
   "source": [
    "values = [1, 2, 3, 4, 5]\n",
    "solution(values)"
   ]
  },
  {
   "cell_type": "markdown",
   "metadata": {},
   "source": [
    "# 13. Make a function that calculates the subtraction of 1. maximum value and 2. maximum value"
   ]
  },
  {
   "cell_type": "code",
   "execution_count": 20,
   "metadata": {},
   "outputs": [],
   "source": [
    "def solution(list):\n",
    "    max1 = 0\n",
    "    max2 = 0\n",
    "    \n",
    "    for i in list:\n",
    "        if i > max1:\n",
    "            max1 = i\n",
    "    \n",
    "    for i in list:\n",
    "        if max2 < i < max1:\n",
    "            max2 = i\n",
    "    \n",
    "    return max1 - max2"
   ]
  },
  {
   "cell_type": "code",
   "execution_count": 21,
   "metadata": {},
   "outputs": [
    {
     "data": {
      "text/plain": [
       "5"
      ]
     },
     "execution_count": 21,
     "metadata": {},
     "output_type": "execute_result"
    }
   ],
   "source": [
    "ls_sample = [1, 2, 3, 4, 5, 10, 15]\n",
    "solution(ls_sample)"
   ]
  },
  {
   "cell_type": "markdown",
   "metadata": {},
   "source": [
    "make the same function based on the answer sheet"
   ]
  },
  {
   "cell_type": "code",
   "execution_count": 23,
   "metadata": {},
   "outputs": [],
   "source": [
    "def get_max(list):\n",
    "    max = -1\n",
    "    for i in list:\n",
    "        if i > max:\n",
    "            max = i\n",
    "    return max\n",
    "\n",
    "def except_max(list, max):\n",
    "    ls_ret = []\n",
    "    for i in list:\n",
    "        if i != max:\n",
    "            ls_ret.append(i)\n",
    "    return ls_ret\n",
    "\n",
    "def subtract(a, b):\n",
    "    if a > b:\n",
    "        return a - b\n",
    "    else:\n",
    "        return b - a\n",
    "    \n",
    "def solution(list):\n",
    "    max_first = get_max(list)\n",
    "    ls_removed = except_max(list, max_first)\n",
    "    max_second = get_max(ls_removed)\n",
    "    answer = subtract(max_first, max_second)\n",
    "    return answer"
   ]
  },
  {
   "cell_type": "code",
   "execution_count": 24,
   "metadata": {},
   "outputs": [
    {
     "data": {
      "text/plain": [
       "50"
      ]
     },
     "execution_count": 24,
     "metadata": {},
     "output_type": "execute_result"
    }
   ],
   "source": [
    "ls_visitors = [1, 2, 3, 4, 5, 6, 7, 8, 10, 100, 150]\n",
    "\n",
    "solution(ls_visitors)"
   ]
  },
  {
   "cell_type": "markdown",
   "metadata": {},
   "source": [
    "# 14. make a function that counts each person by grade"
   ]
  },
  {
   "cell_type": "code",
   "execution_count": 25,
   "metadata": {},
   "outputs": [],
   "source": [
    "def solution(scores):\n",
    "    cnt = [0, 0, 0, 0, 0]\n",
    "    \n",
    "    for score in scores:\n",
    "        if 85 <= score <= 100:\n",
    "            cnt[0] += 1\n",
    "        elif 70 <= score <= 84:\n",
    "            cnt[1] += 1\n",
    "        elif 55 <= score <= 69:\n",
    "            cnt[2] += 1\n",
    "        elif 40 <= score <= 54:\n",
    "            cnt[3] += 1\n",
    "        elif 0 <= score <= 39:\n",
    "            cnt[4] += 1\n",
    "    \n",
    "    return cnt"
   ]
  },
  {
   "cell_type": "code",
   "execution_count": 27,
   "metadata": {},
   "outputs": [
    {
     "data": {
      "text/plain": [
       "[2, 2, 1, 2, 0]"
      ]
     },
     "execution_count": 27,
     "metadata": {},
     "output_type": "execute_result"
    }
   ],
   "source": [
    "ls_scores = [100, 90, 80, 70, 60, 50, 40]\n",
    "solution(ls_scores)"
   ]
  },
  {
   "cell_type": "markdown",
   "metadata": {},
   "source": [
    "based on answer sheet..."
   ]
  },
  {
   "cell_type": "code",
   "execution_count": 32,
   "metadata": {},
   "outputs": [],
   "source": [
    "def solution(list):\n",
    "    cnt = [0 for _ in range(5)]\n",
    "    \n",
    "    for i in list:\n",
    "        if i >= 85:\n",
    "            cnt[0] += 1\n",
    "        elif i >= 70:\n",
    "            cnt[1] += 1\n",
    "        elif i >= 55:\n",
    "            cnt[2] += 1\n",
    "        elif i >= 40:\n",
    "            cnt[3] += 1\n",
    "        else:\n",
    "            cnt[4] += 1\n",
    "    \n",
    "    return cnt"
   ]
  },
  {
   "cell_type": "code",
   "execution_count": 34,
   "metadata": {},
   "outputs": [
    {
     "data": {
      "text/plain": [
       "[2, 2, 1, 2, 1]"
      ]
     },
     "execution_count": 34,
     "metadata": {},
     "output_type": "execute_result"
    }
   ],
   "source": [
    "ls_sample = [100, 90, 80, 70, 60, 50, 40, 30]\n",
    "\n",
    "solution(ls_sample)"
   ]
  },
  {
   "cell_type": "markdown",
   "metadata": {},
   "source": [
    "# 15. Make a function that calculates total number of how many times a frog jumps"
   ]
  },
  {
   "cell_type": "code",
   "execution_count": 37,
   "metadata": {},
   "outputs": [],
   "source": [
    "def solution(list):\n",
    "    max = len(list)\n",
    "    now = 1\n",
    "    cnt = 0\n",
    "    \n",
    "    while now <= max:\n",
    "        now += list[now-1]\n",
    "        cnt += 1\n",
    "    \n",
    "    return cnt"
   ]
  },
  {
   "cell_type": "code",
   "execution_count": 43,
   "metadata": {},
   "outputs": [
    {
     "data": {
      "text/plain": [
       "4"
      ]
     },
     "execution_count": 43,
     "metadata": {},
     "output_type": "execute_result"
    }
   ],
   "source": [
    "ls_jump = [1, 2, 3, 1, 1]\n",
    "solution(ls_jump)"
   ]
  },
  {
   "cell_type": "markdown",
   "metadata": {},
   "source": [
    "make the same function with in some different way"
   ]
  },
  {
   "cell_type": "code",
   "execution_count": 1,
   "metadata": {},
   "outputs": [],
   "source": [
    "def solution(stones):\n",
    "    cnt = 0\n",
    "    current = 0\n",
    "    n = len(stones)\n",
    "    \n",
    "    while current < n:\n",
    "        current += stones[current]\n",
    "        cnt += 1\n",
    "    \n",
    "    return cnt"
   ]
  },
  {
   "cell_type": "code",
   "execution_count": 2,
   "metadata": {},
   "outputs": [
    {
     "data": {
      "text/plain": [
       "4"
      ]
     },
     "execution_count": 2,
     "metadata": {},
     "output_type": "execute_result"
    }
   ],
   "source": [
    "ls_jump = [1, 2, 3, 1, 1]\n",
    "solution(ls_jump)"
   ]
  },
  {
   "cell_type": "markdown",
   "metadata": {},
   "source": [
    "# 16. Make a function that calculates how many persons are taller than input 'k'"
   ]
  },
  {
   "cell_type": "code",
   "execution_count": 3,
   "metadata": {},
   "outputs": [],
   "source": [
    "def solution(list, k):\n",
    "    cnt = 0\n",
    "    for i in list:\n",
    "        if i > k:\n",
    "            cnt += 1\n",
    "    return cnt"
   ]
  },
  {
   "cell_type": "code",
   "execution_count": 4,
   "metadata": {},
   "outputs": [
    {
     "data": {
      "text/plain": [
       "3"
      ]
     },
     "execution_count": 4,
     "metadata": {},
     "output_type": "execute_result"
    }
   ],
   "source": [
    "height = [170, 180, 190, 177, 175, 160, 168]\n",
    "\n",
    "solution(height, 175)"
   ]
  },
  {
   "cell_type": "markdown",
   "metadata": {},
   "source": [
    "model answer 1"
   ]
  },
  {
   "cell_type": "code",
   "execution_count": 5,
   "metadata": {},
   "outputs": [],
   "source": [
    "def solution(height, k):\n",
    "    answer = 0\n",
    "    n = len(height)\n",
    "    for h in height:\n",
    "        if h > k:\n",
    "            answer += 1\n",
    "    return answer"
   ]
  },
  {
   "cell_type": "code",
   "execution_count": 6,
   "metadata": {},
   "outputs": [
    {
     "data": {
      "text/plain": [
       "3"
      ]
     },
     "execution_count": 6,
     "metadata": {},
     "output_type": "execute_result"
    }
   ],
   "source": [
    "height = [170, 180, 190, 177, 175, 160, 168]\n",
    "\n",
    "solution(height, 175)"
   ]
  },
  {
   "cell_type": "markdown",
   "metadata": {},
   "source": [
    "model answer 2"
   ]
  },
  {
   "cell_type": "code",
   "execution_count": 9,
   "metadata": {},
   "outputs": [],
   "source": [
    "def solution(height, k):\n",
    "    answer = 0\n",
    "    n = len(height)\n",
    "    index = 0\n",
    "    while index < n:\n",
    "        if height[index] > k:\n",
    "            answer += 1\n",
    "        index += 1\n",
    "    return answer"
   ]
  },
  {
   "cell_type": "code",
   "execution_count": 10,
   "metadata": {},
   "outputs": [
    {
     "data": {
      "text/plain": [
       "3"
      ]
     },
     "execution_count": 10,
     "metadata": {},
     "output_type": "execute_result"
    }
   ],
   "source": [
    "height = [170, 180, 190, 177, 175, 160, 168]\n",
    "\n",
    "solution(height, 175)"
   ]
  },
  {
   "cell_type": "markdown",
   "metadata": {},
   "source": [
    "# 17. Make a function that rectifies spelling 'a' to spelling 'z'"
   ]
  },
  {
   "cell_type": "code",
   "execution_count": 11,
   "metadata": {},
   "outputs": [],
   "source": [
    "def solution(string):\n",
    "    tmp = ''\n",
    "    for i in string:\n",
    "        if i == 'a':\n",
    "            tmp += 'z'\n",
    "        elif i == 'z':\n",
    "            tmp += 'a'\n",
    "        else:\n",
    "            tmp += i\n",
    "    return tmp"
   ]
  },
  {
   "cell_type": "code",
   "execution_count": 16,
   "metadata": {},
   "outputs": [
    {
     "data": {
      "text/plain": [
       "'azure is a web clouding service zzz'"
      ]
     },
     "execution_count": 16,
     "metadata": {},
     "output_type": "execute_result"
    }
   ],
   "source": [
    "sent = 'zaure is z web clouding service aaa'\n",
    "solution(sent)"
   ]
  },
  {
   "cell_type": "markdown",
   "metadata": {},
   "source": [
    "in a different way"
   ]
  },
  {
   "cell_type": "code",
   "execution_count": 42,
   "metadata": {},
   "outputs": [],
   "source": [
    "def solution(s):\n",
    "    s_lst = list(s)\n",
    "    n = len(s)\n",
    "    \n",
    "    for i in range(n):\n",
    "        if s_lst[i] == 'a':\n",
    "            s_lst[i] = 'z'\n",
    "        elif s_lst[i] == 'z':\n",
    "            s_lst[i] = 'a'\n",
    "    \n",
    "    return ''.join(s_lst)"
   ]
  },
  {
   "cell_type": "code",
   "execution_count": 43,
   "metadata": {},
   "outputs": [
    {
     "data": {
      "text/plain": [
       "'azure is a web clouding service zzz'"
      ]
     },
     "execution_count": 43,
     "metadata": {},
     "output_type": "execute_result"
    }
   ],
   "source": [
    "sent = 'zaure is z web clouding service aaa'\n",
    "solution(sent)"
   ]
  },
  {
   "cell_type": "markdown",
   "metadata": {},
   "source": [
    "# 18. Make a function that counts names which contains spelling 'j' and 'k'"
   ]
  },
  {
   "cell_type": "code",
   "execution_count": 44,
   "metadata": {},
   "outputs": [],
   "source": [
    "def solution(list):\n",
    "    cnt = 0\n",
    "    for name in list:\n",
    "        for c in name:\n",
    "            if c == 'j' or c == 'k':\n",
    "                cnt += 1\n",
    "                break\n",
    "    return cnt"
   ]
  },
  {
   "cell_type": "code",
   "execution_count": 48,
   "metadata": {},
   "outputs": [
    {
     "data": {
      "text/plain": [
       "3"
      ]
     },
     "execution_count": 48,
     "metadata": {},
     "output_type": "execute_result"
    }
   ],
   "source": [
    "names = ['james', 'kim john', 'dojun', 'seohyun', 'haeil', 'myeonghee']\n",
    "\n",
    "solution(names)"
   ]
  },
  {
   "cell_type": "markdown",
   "metadata": {},
   "source": [
    "make it one more time"
   ]
  },
  {
   "cell_type": "code",
   "execution_count": 50,
   "metadata": {},
   "outputs": [],
   "source": [
    "def solution(name_list):\n",
    "    answer = 0\n",
    "    for name in name_list:\n",
    "        for n in name:\n",
    "            if n == 'j' or n == 'k':\n",
    "                answer += 1\n",
    "                break\n",
    "    return answer"
   ]
  },
  {
   "cell_type": "code",
   "execution_count": 51,
   "metadata": {},
   "outputs": [
    {
     "data": {
      "text/plain": [
       "3"
      ]
     },
     "execution_count": 51,
     "metadata": {},
     "output_type": "execute_result"
    }
   ],
   "source": [
    "names = ['james', 'kim john', 'dojun', 'seohyun', 'haeil', 'myeonghee']\n",
    "\n",
    "solution(names)"
   ]
  },
  {
   "cell_type": "markdown",
   "metadata": {},
   "source": [
    "# 19. Make a function that receives a list of price and calculates the change"
   ]
  },
  {
   "cell_type": "code",
   "execution_count": 52,
   "metadata": {},
   "outputs": [],
   "source": [
    "def solution(list, money):\n",
    "    total = 0\n",
    "    for i in list:\n",
    "        total += i\n",
    "    \n",
    "    result = money - total\n",
    "    if result >= 0:\n",
    "        return result\n",
    "    else:\n",
    "        return -1"
   ]
  },
  {
   "cell_type": "code",
   "execution_count": 61,
   "metadata": {},
   "outputs": [
    {
     "name": "stdout",
     "output_type": "stream",
     "text": [
      "500\n",
      "0\n",
      "-1\n"
     ]
    }
   ],
   "source": [
    "prices = [1000, 2000, 3500, 3000]\n",
    "\n",
    "print(solution(prices, 10000))\n",
    "print(solution(prices, 9500))\n",
    "print(solution(prices, 9000))"
   ]
  },
  {
   "cell_type": "markdown",
   "metadata": {},
   "source": [
    "one more time"
   ]
  },
  {
   "cell_type": "code",
   "execution_count": 63,
   "metadata": {},
   "outputs": [],
   "source": [
    "def solution(price, money):\n",
    "    answer = 0\n",
    "    total = 0\n",
    "    for i in price:\n",
    "        total += i\n",
    "    \n",
    "    answer = money - total\n",
    "    if answer < 0:\n",
    "        answer = -1\n",
    "    return answer"
   ]
  },
  {
   "cell_type": "code",
   "execution_count": 64,
   "metadata": {},
   "outputs": [
    {
     "name": "stdout",
     "output_type": "stream",
     "text": [
      "500\n",
      "0\n",
      "-1\n"
     ]
    }
   ],
   "source": [
    "prices = [1000, 2000, 3500, 3000]\n",
    "\n",
    "print(solution(prices, 10000))\n",
    "print(solution(prices, 9500))\n",
    "print(solution(prices, 9000))"
   ]
  },
  {
   "cell_type": "markdown",
   "metadata": {},
   "source": [
    "# 20. Make a function that finds out the 'k'th. smallst number from a list"
   ]
  },
  {
   "cell_type": "code",
   "execution_count": 75,
   "metadata": {},
   "outputs": [],
   "source": [
    "def get_list(list):\n",
    "    tmp = []\n",
    "    for i in list:\n",
    "        for j in i:\n",
    "            tmp.append(j)\n",
    "    return tmp\n",
    "\n",
    "def get_min(list):\n",
    "    min = 101\n",
    "    for i in list:\n",
    "        if i < min:\n",
    "            min = i\n",
    "    return min\n",
    "\n",
    "def except_min(list, min):\n",
    "    tmp = []\n",
    "    for i in list:\n",
    "        if i != min:\n",
    "            tmp.append(i)\n",
    "    return tmp\n",
    "\n",
    "def solution(list, k):\n",
    "    ls_tmp = get_list(list)\n",
    "    \n",
    "    for _ in range(k):\n",
    "        min = get_min(ls_tmp)\n",
    "        ls_tmp = except_min(ls_tmp, min)\n",
    "    return min"
   ]
  },
  {
   "cell_type": "code",
   "execution_count": 78,
   "metadata": {},
   "outputs": [
    {
     "data": {
      "text/plain": [
       "2"
      ]
     },
     "execution_count": 78,
     "metadata": {},
     "output_type": "execute_result"
    }
   ],
   "source": [
    "ls_samples = [[1, 2, 3, 4, 5], [10, 11, 12, 13, 14, 15], [31, 32, 33, 34, 35]]\n",
    "solution(ls_samples, 2)"
   ]
  },
  {
   "cell_type": "markdown",
   "metadata": {},
   "source": [
    "follow the answer sheet"
   ]
  },
  {
   "cell_type": "code",
   "execution_count": 81,
   "metadata": {},
   "outputs": [],
   "source": [
    "def solution(list, k):\n",
    "    tmp = []\n",
    "    \n",
    "    for i in list:\n",
    "        for j in i:\n",
    "            tmp.append(j)\n",
    "    tmp.sort()\n",
    "    answer = tmp[k-1]\n",
    "    return answer"
   ]
  },
  {
   "cell_type": "code",
   "execution_count": 82,
   "metadata": {},
   "outputs": [
    {
     "data": {
      "text/plain": [
       "2"
      ]
     },
     "execution_count": 82,
     "metadata": {},
     "output_type": "execute_result"
    }
   ],
   "source": [
    "ls_samples = [[1, 2, 3, 4, 5], [10, 11, 12, 13, 14, 15], [31, 32, 33, 34, 35]]\n",
    "solution(ls_samples, 2)"
   ]
  }
 ],
 "metadata": {
  "kernelspec": {
   "display_name": "Python 3",
   "language": "python",
   "name": "python3"
  },
  "language_info": {
   "codemirror_mode": {
    "name": "ipython",
    "version": 3
   },
   "file_extension": ".py",
   "mimetype": "text/x-python",
   "name": "python",
   "nbconvert_exporter": "python",
   "pygments_lexer": "ipython3",
   "version": "3.6.9"
  }
 },
 "nbformat": 4,
 "nbformat_minor": 2
}
