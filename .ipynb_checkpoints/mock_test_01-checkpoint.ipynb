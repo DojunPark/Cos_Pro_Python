{
 "cells": [
  {
   "cell_type": "markdown",
   "metadata": {},
   "source": [
    "# Professional Coding Specialist COS Pro level 2 - python\n",
    "# `mock test 1`"
   ]
  },
  {
   "cell_type": "markdown",
   "metadata": {},
   "source": [
    "# 1. Make a function that calculates the change"
   ]
  },
  {
   "cell_type": "code",
   "execution_count": 6,
   "metadata": {},
   "outputs": [],
   "source": [
    "def solution(price, money):\n",
    "    answer = 0\n",
    "    for i in price:\n",
    "        answer += i\n",
    "    result = money - answer\n",
    "    \n",
    "    if result < 0:\n",
    "        return -1\n",
    "    else:\n",
    "        return result"
   ]
  },
  {
   "cell_type": "code",
   "execution_count": 9,
   "metadata": {},
   "outputs": [
    {
     "data": {
      "text/plain": [
       "500"
      ]
     },
     "execution_count": 9,
     "metadata": {},
     "output_type": "execute_result"
    }
   ],
   "source": [
    "ls_price = [1000, 4000, 4500]\n",
    "solution(ls_price, 10000)"
   ]
  },
  {
   "cell_type": "markdown",
   "metadata": {},
   "source": [
    "# 2. Make a function that returns total summation of input list without maximum and minumum values"
   ]
  },
  {
   "cell_type": "code",
   "execution_count": 22,
   "metadata": {},
   "outputs": [],
   "source": [
    "def solution(list):\n",
    "    \n",
    "    list.sort()\n",
    "    min, max = list[0], list[-1]\n",
    "    total = sum(list)\n",
    "    result = total - min - max\n",
    "    \n",
    "    return result"
   ]
  },
  {
   "cell_type": "code",
   "execution_count": 23,
   "metadata": {},
   "outputs": [
    {
     "data": {
      "text/plain": [
       "24"
      ]
     },
     "execution_count": 23,
     "metadata": {},
     "output_type": "execute_result"
    }
   ],
   "source": [
    "ls_sample = [1, 2, 3, 4, 5, 10, 15]\n",
    "solution(ls_sample)"
   ]
  },
  {
   "cell_type": "markdown",
   "metadata": {},
   "source": [
    "in a different way"
   ]
  },
  {
   "cell_type": "code",
   "execution_count": 24,
   "metadata": {},
   "outputs": [],
   "source": [
    "def func_a(s):\n",
    "    s.sort()\n",
    "    return s[len(s)-1], s[0]\n",
    "\n",
    "def func_b(s):\n",
    "    ret = 0\n",
    "    for i in s:\n",
    "        ret += i\n",
    "    return ret\n",
    "\n",
    "def solution(scores):\n",
    "    sum = func_b(scores)\n",
    "    max, min = func_a(scores)\n",
    "    return sum - max - min"
   ]
  },
  {
   "cell_type": "code",
   "execution_count": 25,
   "metadata": {},
   "outputs": [
    {
     "data": {
      "text/plain": [
       "24"
      ]
     },
     "execution_count": 25,
     "metadata": {},
     "output_type": "execute_result"
    }
   ],
   "source": [
    "ls_sample = [1, 2, 3, 4, 5, 10, 15]\n",
    "solution(ls_sample)"
   ]
  },
  {
   "cell_type": "markdown",
   "metadata": {},
   "source": [
    "# 3. Make a function that counts persons whose scores are over the requirement"
   ]
  },
  {
   "cell_type": "code",
   "execution_count": 26,
   "metadata": {},
   "outputs": [],
   "source": [
    "def solution(list):\n",
    "    cnt = 0\n",
    "    for i in list:\n",
    "        if i <= 200:\n",
    "            cnt += 1\n",
    "    return cnt"
   ]
  },
  {
   "cell_type": "code",
   "execution_count": 27,
   "metadata": {},
   "outputs": [
    {
     "data": {
      "text/plain": [
       "2"
      ]
     },
     "execution_count": 27,
     "metadata": {},
     "output_type": "execute_result"
    }
   ],
   "source": [
    "scores = [100, 200, 300, 400]\n",
    "solution(scores)"
   ]
  },
  {
   "cell_type": "markdown",
   "metadata": {},
   "source": [
    "in a different way"
   ]
  },
  {
   "cell_type": "code",
   "execution_count": 28,
   "metadata": {},
   "outputs": [],
   "source": [
    "def solution(scores):\n",
    "    count = 0\n",
    "    for s in range(len(scores)):\n",
    "        if scores[s] <= 200:\n",
    "            count += 1\n",
    "    return count"
   ]
  },
  {
   "cell_type": "code",
   "execution_count": 29,
   "metadata": {},
   "outputs": [
    {
     "data": {
      "text/plain": [
       "2"
      ]
     },
     "execution_count": 29,
     "metadata": {},
     "output_type": "execute_result"
    }
   ],
   "source": [
    "scores = [100, 200, 300, 400]\n",
    "solution(scores)"
   ]
  },
  {
   "cell_type": "markdown",
   "metadata": {},
   "source": [
    "# 4. Make a function that calculates the total cost with tax"
   ]
  },
  {
   "cell_type": "code",
   "execution_count": 30,
   "metadata": {},
   "outputs": [],
   "source": [
    "def solution(price, grade):\n",
    "    if grade == 'S':\n",
    "        payment = price * 1.05\n",
    "    elif grade == 'G':\n",
    "        payment = price * 1.1\n",
    "    elif grade == 'V':\n",
    "        payment = price * 1.15\n",
    "    return int(payment)"
   ]
  },
  {
   "cell_type": "code",
   "execution_count": 31,
   "metadata": {},
   "outputs": [
    {
     "data": {
      "text/plain": [
       "1100"
      ]
     },
     "execution_count": 31,
     "metadata": {},
     "output_type": "execute_result"
    }
   ],
   "source": [
    "solution(1000, 'G')"
   ]
  },
  {
   "cell_type": "markdown",
   "metadata": {},
   "source": [
    "in a different way"
   ]
  },
  {
   "cell_type": "code",
   "execution_count": 32,
   "metadata": {},
   "outputs": [],
   "source": [
    "def solution(price, grade):\n",
    "    answer = 0\n",
    "    if grade == 'S':\n",
    "        answer = price * 1.05\n",
    "    if grade == 'G':\n",
    "        answer = price * 1.10\n",
    "    if grade == 'V':\n",
    "        answer = price * 1.15\n",
    "    return int(answer)"
   ]
  },
  {
   "cell_type": "code",
   "execution_count": 33,
   "metadata": {},
   "outputs": [
    {
     "data": {
      "text/plain": [
       "1150"
      ]
     },
     "execution_count": 33,
     "metadata": {},
     "output_type": "execute_result"
    }
   ],
   "source": [
    "solution(1000, 'V')"
   ]
  },
  {
   "cell_type": "markdown",
   "metadata": {},
   "source": [
    "# 5. Make a function that confirms if the integer contains 3, 6, or 9"
   ]
  },
  {
   "cell_type": "code",
   "execution_count": 11,
   "metadata": {},
   "outputs": [],
   "source": [
    "def solution(number):\n",
    "    count = 0\n",
    "    for i in range(1, number+1):\n",
    "        current = i\n",
    "        while current != 0:\n",
    "            unit = current % 10\n",
    "            if unit ==3 or unit ==6 or unit ==9:\n",
    "                count += 1\n",
    "            current //= 10\n",
    "    return count"
   ]
  },
  {
   "cell_type": "code",
   "execution_count": 12,
   "metadata": {},
   "outputs": [
    {
     "data": {
      "text/plain": [
       "1"
      ]
     },
     "execution_count": 12,
     "metadata": {},
     "output_type": "execute_result"
    }
   ],
   "source": [
    "solution(3)"
   ]
  },
  {
   "cell_type": "markdown",
   "metadata": {},
   "source": [
    "make the same one more time"
   ]
  },
  {
   "cell_type": "code",
   "execution_count": 13,
   "metadata": {},
   "outputs": [],
   "source": [
    "def soltuion(number):\n",
    "    count = 0\n",
    "    for i in range(1, number+1):\n",
    "        current = i\n",
    "        while i != 0:\n",
    "            unit = current % 10\n",
    "            if unit == 3 or unit == 6 or unit == 9:\n",
    "                count += 1\n",
    "            current //= 10\n",
    "    return count"
   ]
  },
  {
   "cell_type": "code",
   "execution_count": 14,
   "metadata": {},
   "outputs": [
    {
     "data": {
      "text/plain": [
       "3"
      ]
     },
     "execution_count": 14,
     "metadata": {},
     "output_type": "execute_result"
    }
   ],
   "source": [
    "solution(10)"
   ]
  },
  {
   "cell_type": "markdown",
   "metadata": {},
   "source": [
    "# 6. Make a function that finds out the number of intersections"
   ]
  },
  {
   "cell_type": "code",
   "execution_count": 15,
   "metadata": {},
   "outputs": [],
   "source": [
    "def solution(left_rings):\n",
    "    answer = 0\n",
    "    for i in range(len(left_rings)):\n",
    "        if left_rings[i] <= i:\n",
    "            for k in range(i):\n",
    "                if left_rings[k] > left_rings[i]:\n",
    "                    answer += 1\n",
    "    return answer"
   ]
  },
  {
   "cell_type": "code",
   "execution_count": 16,
   "metadata": {},
   "outputs": [
    {
     "data": {
      "text/plain": [
       "2"
      ]
     },
     "execution_count": 16,
     "metadata": {},
     "output_type": "execute_result"
    }
   ],
   "source": [
    "samples = [2, 1, 3, 5, 4]\n",
    "solution(samples)"
   ]
  },
  {
   "cell_type": "markdown",
   "metadata": {},
   "source": [
    "# 7. Make a function that checks input information for file uploading"
   ]
  },
  {
   "cell_type": "code",
   "execution_count": 3,
   "metadata": {},
   "outputs": [],
   "source": [
    "def solution(file_info):\n",
    "    success = 0\n",
    "    fail = 0\n",
    "    for f in file_info:\n",
    "        splited = f.split(',')\n",
    "        if splited[0] == 'jpeg' and int(splited[2]) < 1000:\n",
    "            success += 1\n",
    "        else:\n",
    "            fail += 1\n",
    "    return success, fail"
   ]
  },
  {
   "cell_type": "code",
   "execution_count": 4,
   "metadata": {},
   "outputs": [
    {
     "data": {
      "text/plain": [
       "(1, 1)"
      ]
     },
     "execution_count": 4,
     "metadata": {},
     "output_type": "execute_result"
    }
   ],
   "source": [
    "infos = ['jpeg,all.jpg,500', 'mpeg,all.mp3,500']\n",
    "solution(infos)"
   ]
  },
  {
   "cell_type": "markdown",
   "metadata": {},
   "source": [
    "one more time"
   ]
  },
  {
   "cell_type": "code",
   "execution_count": 5,
   "metadata": {},
   "outputs": [],
   "source": [
    "def solution(file_infos):\n",
    "    success = 0\n",
    "    fail = 0\n",
    "    \n",
    "    for f in file_infos:\n",
    "        splited = f.split(',')\n",
    "        \n",
    "        if splited[0] == 'jpeg' and int(splited[2]) < 1000:\n",
    "            success += 1\n",
    "        else:\n",
    "            fail += 1\n",
    "    \n",
    "    return success, fail"
   ]
  },
  {
   "cell_type": "code",
   "execution_count": 6,
   "metadata": {},
   "outputs": [
    {
     "data": {
      "text/plain": [
       "(1, 1)"
      ]
     },
     "execution_count": 6,
     "metadata": {},
     "output_type": "execute_result"
    }
   ],
   "source": [
    "infos = ['jpeg,all.jpg,500', 'mpeg,all.mp3,500']\n",
    "solution(infos)"
   ]
  },
  {
   "cell_type": "markdown",
   "metadata": {},
   "source": [
    "# 8. Make a function that confirms if the input sentence is a palindrome"
   ]
  },
  {
   "cell_type": "code",
   "execution_count": 7,
   "metadata": {},
   "outputs": [],
   "source": [
    "def solution(sent):\n",
    "    filtered = []\n",
    "    for i in sent:\n",
    "        if i != ' ' and i != '.':\n",
    "            filtered += i\n",
    "    \n",
    "    before = ''.join(filtered)\n",
    "    filtered.reverse()\n",
    "    after = ''.join(filtered)\n",
    "    \n",
    "    return before == after"
   ]
  },
  {
   "cell_type": "code",
   "execution_count": 10,
   "metadata": {},
   "outputs": [
    {
     "name": "stdout",
     "output_type": "stream",
     "text": [
      "True\n",
      "True\n",
      "False\n"
     ]
    }
   ],
   "source": [
    "sent1 = 'never odd or even.'\n",
    "sent2 = 'racecar'\n",
    "sent3 = 'This is not a palindrome'\n",
    "\n",
    "print(solution(sent1))\n",
    "print(solution(sent2))\n",
    "print(solution(sent3))"
   ]
  },
  {
   "cell_type": "markdown",
   "metadata": {},
   "source": [
    "# 9. Make a function that deletes redundant letters"
   ]
  },
  {
   "cell_type": "code",
   "execution_count": 1,
   "metadata": {},
   "outputs": [],
   "source": [
    "def solution(string):\n",
    "    result = string[0]\n",
    "    \n",
    "    for i in range(1, len(string)):\n",
    "        if string[i-1] != string[i]:\n",
    "            result += string[i]\n",
    "    \n",
    "    return result"
   ]
  },
  {
   "cell_type": "code",
   "execution_count": 2,
   "metadata": {},
   "outputs": [
    {
     "data": {
      "text/plain": [
       "'My name is Dojun'"
      ]
     },
     "execution_count": 2,
     "metadata": {},
     "output_type": "execute_result"
    }
   ],
   "source": [
    "string1 = 'My nameeeee is Dojunnnnnnn'\n",
    "solution(string1)"
   ]
  },
  {
   "cell_type": "markdown",
   "metadata": {},
   "source": [
    "in a different way"
   ]
  },
  {
   "cell_type": "code",
   "execution_count": 5,
   "metadata": {},
   "outputs": [],
   "source": [
    "def solution(character):\n",
    "    result = [character[0]]\n",
    "    \n",
    "    for i in range(1, len(character)):\n",
    "        if character[i-1] != character[i]:\n",
    "            result.append(character[i])\n",
    "        \n",
    "    return ''.join(result)"
   ]
  },
  {
   "cell_type": "code",
   "execution_count": 6,
   "metadata": {},
   "outputs": [
    {
     "data": {
      "text/plain": [
       "'My name is Dojun'"
      ]
     },
     "execution_count": 6,
     "metadata": {},
     "output_type": "execute_result"
    }
   ],
   "source": [
    "string1 = 'My nameeeee is Dojunnnnnnn'\n",
    "solution(string1)"
   ]
  },
  {
   "cell_type": "markdown",
   "metadata": {},
   "source": [
    "# 10. Make a function that finds out how many numbers are smaller than average"
   ]
  },
  {
   "cell_type": "code",
   "execution_count": 7,
   "metadata": {},
   "outputs": [],
   "source": [
    "def solution(list):\n",
    "    sum = 0\n",
    "    for i in list:\n",
    "        sum += i\n",
    "    average = sum / len(list)\n",
    "    \n",
    "    cnt = 0\n",
    "    for i in list:\n",
    "        if i < average:\n",
    "            cnt += 1\n",
    "    \n",
    "    return cnt"
   ]
  },
  {
   "cell_type": "code",
   "execution_count": 10,
   "metadata": {},
   "outputs": [
    {
     "name": "stdout",
     "output_type": "stream",
     "text": [
      "29.857142857142858\n",
      "3\n"
     ]
    }
   ],
   "source": [
    "samples = [10, 20, 22, 30, 37, 40, 50]\n",
    "\n",
    "print(sum(samples)/len(samples))\n",
    "print(solution(samples))"
   ]
  },
  {
   "cell_type": "markdown",
   "metadata": {},
   "source": [
    "one more time"
   ]
  },
  {
   "cell_type": "code",
   "execution_count": 13,
   "metadata": {},
   "outputs": [],
   "source": [
    "def solution(data):\n",
    "    total = 0\n",
    "    for i in data:\n",
    "        total += i\n",
    "    \n",
    "    cnt = 0\n",
    "    average = total // len(data)\n",
    "    for i in data:\n",
    "        if i < average:\n",
    "            cnt += 1\n",
    "    \n",
    "    return cnt"
   ]
  },
  {
   "cell_type": "code",
   "execution_count": 14,
   "metadata": {},
   "outputs": [
    {
     "name": "stdout",
     "output_type": "stream",
     "text": [
      "29.857142857142858\n",
      "3\n"
     ]
    }
   ],
   "source": [
    "samples = [10, 20, 22, 30, 37, 40, 50]\n",
    "\n",
    "print(sum(samples)/len(samples))\n",
    "print(solution(samples))"
   ]
  }
 ],
 "metadata": {
  "kernelspec": {
   "display_name": "Python 3",
   "language": "python",
   "name": "python3"
  },
  "language_info": {
   "codemirror_mode": {
    "name": "ipython",
    "version": 3
   },
   "file_extension": ".py",
   "mimetype": "text/x-python",
   "name": "python",
   "nbconvert_exporter": "python",
   "pygments_lexer": "ipython3",
   "version": "3.6.9"
  }
 },
 "nbformat": 4,
 "nbformat_minor": 2
}
