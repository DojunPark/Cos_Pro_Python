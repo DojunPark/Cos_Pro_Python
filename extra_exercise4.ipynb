{
 "cells": [
  {
   "cell_type": "markdown",
   "metadata": {},
   "source": [
    " # 티셔츠 갯수 세기"
   ]
  },
  {
   "cell_type": "code",
   "execution_count": 1,
   "metadata": {},
   "outputs": [],
   "source": [
    "def solution(list):\n",
    "    count = [0 for _ in range(5)]\n",
    "    \n",
    "    for i in list:\n",
    "        \n",
    "        if i == 'XS':\n",
    "            count[0] += 1\n",
    "        elif i == 'S':\n",
    "            count[1] += 1\n",
    "        elif i == 'M':\n",
    "            count[2] += 1\n",
    "        elif i == 'L':\n",
    "            count[3] += 1\n",
    "        elif i == 'XL':\n",
    "            count[4] += 1\n",
    "    \n",
    "    return count"
   ]
  },
  {
   "cell_type": "code",
   "execution_count": 2,
   "metadata": {},
   "outputs": [
    {
     "data": {
      "text/plain": [
       "[0, 0, 3, 1, 1]"
      ]
     },
     "execution_count": 2,
     "metadata": {},
     "output_type": "execute_result"
    }
   ],
   "source": [
    "samples = ['XL', 'L', 'M', 'M', 'M']\n",
    "solution(samples)"
   ]
  },
  {
   "cell_type": "markdown",
   "metadata": {},
   "source": [
    "# 할인율 적용하기"
   ]
  },
  {
   "cell_type": "code",
   "execution_count": 5,
   "metadata": {},
   "outputs": [],
   "source": [
    "def solution(price, grade):\n",
    "    if grade == 'S':\n",
    "        value = price * 0.95\n",
    "    elif grade == 'G':\n",
    "        value = price * 0.90\n",
    "    elif grade == 'V':\n",
    "        value = price * 0.85\n",
    "    \n",
    "    return int(value)"
   ]
  },
  {
   "cell_type": "code",
   "execution_count": 8,
   "metadata": {},
   "outputs": [
    {
     "data": {
      "text/plain": [
       "8500"
      ]
     },
     "execution_count": 8,
     "metadata": {},
     "output_type": "execute_result"
    }
   ],
   "source": [
    "solution(10000, 'V')"
   ]
  },
  {
   "cell_type": "markdown",
   "metadata": {},
   "source": [
    "# 두 날짜 사이의 일 수 계산하기"
   ]
  },
  {
   "cell_type": "code",
   "execution_count": 11,
   "metadata": {},
   "outputs": [],
   "source": [
    "# 1월 1일부터 계산\n",
    "def function(m, d):\n",
    "    days = [31, 28, 31, 30, 31, 30, 31, 31, 30, 31, 30, 31]\n",
    "    \n",
    "    total = 0\n",
    "    for i in range(m-1):\n",
    "        total += days[i]\n",
    "    total += d-1\n",
    "    \n",
    "    return total\n",
    "\n",
    "def solution(m1, d1, m2, d2):\n",
    "    start = function(m1, d1)\n",
    "    end = function(m2, d2)\n",
    "    total = end - start\n",
    "    \n",
    "    return total"
   ]
  },
  {
   "cell_type": "code",
   "execution_count": 14,
   "metadata": {},
   "outputs": [
    {
     "data": {
      "text/plain": [
       "32"
      ]
     },
     "execution_count": 14,
     "metadata": {},
     "output_type": "execute_result"
    }
   ],
   "source": [
    "solution(2, 1, 3, 5)"
   ]
  },
  {
   "cell_type": "markdown",
   "metadata": {},
   "source": [
    "# 최대 빈출 숫자는 최소 빈출 숫자의 몇 배?"
   ]
  },
  {
   "cell_type": "code",
   "execution_count": 18,
   "metadata": {},
   "outputs": [],
   "source": [
    "def solution(list):\n",
    "    # 카운트 리스트 만들기\n",
    "    count = [0 for _ in range(101)]\n",
    "    \n",
    "    # 카운트 세기\n",
    "    for i in list:\n",
    "        count[i] += 1\n",
    "    \n",
    "    # 최대값 최소값 구하기\n",
    "    min = 101\n",
    "    max = 0\n",
    "    for i in count:\n",
    "        if i < min and i != 0:\n",
    "            min = i\n",
    "        if i > max:\n",
    "            max = i\n",
    "\n",
    "    # 배수 구하기\n",
    "    value = max // min\n",
    "    \n",
    "    return value"
   ]
  },
  {
   "cell_type": "code",
   "execution_count": 20,
   "metadata": {},
   "outputs": [
    {
     "data": {
      "text/plain": [
       "2"
      ]
     },
     "execution_count": 20,
     "metadata": {},
     "output_type": "execute_result"
    }
   ],
   "source": [
    "samples = [1, 1, 1, 1, 1, 5, 5, 5, 5, 5, 5, 5, 5, 5, 5]\n",
    "solution(samples)"
   ]
  },
  {
   "cell_type": "markdown",
   "metadata": {},
   "source": [
    "# 순서 바꿔서 출력하기"
   ]
  },
  {
   "cell_type": "code",
   "execution_count": 25,
   "metadata": {},
   "outputs": [],
   "source": [
    "def solution(string):\n",
    "    ls_string = list(string)\n",
    "    \n",
    "    start = 0\n",
    "    end = len(string)-1\n",
    "    \n",
    "    while start < end:\n",
    "        ls_string[start], ls_string[end] = ls_string[end], ls_string[start]\n",
    "        start += 1\n",
    "        end -= 1\n",
    "    return ''.join(ls_string)"
   ]
  },
  {
   "cell_type": "code",
   "execution_count": 26,
   "metadata": {},
   "outputs": [
    {
     "data": {
      "text/plain": [
       "'안녕하세요'"
      ]
     },
     "execution_count": 26,
     "metadata": {},
     "output_type": "execute_result"
    }
   ],
   "source": [
    "text = '요세하녕안'\n",
    "solution(text)"
   ]
  },
  {
   "cell_type": "markdown",
   "metadata": {},
   "source": [
    "# 다시"
   ]
  },
  {
   "cell_type": "code",
   "execution_count": 27,
   "metadata": {},
   "outputs": [],
   "source": [
    "def solution(string):\n",
    "    ls_string = list(string)\n",
    "\n",
    "    start = 0\n",
    "    end = len(string)-1\n",
    "    while start < end:\n",
    "        ls_string[start], ls_string[end] = ls_string[end], ls_string[start]\n",
    "        start += 1\n",
    "        end -= 1\n",
    "    \n",
    "    value = ''.join(ls_string)\n",
    "    return value"
   ]
  },
  {
   "cell_type": "code",
   "execution_count": 28,
   "metadata": {},
   "outputs": [
    {
     "data": {
      "text/plain": [
       "'654321'"
      ]
     },
     "execution_count": 28,
     "metadata": {},
     "output_type": "execute_result"
    }
   ],
   "source": [
    "sample = '123456'\n",
    "solution(sample)"
   ]
  },
  {
   "cell_type": "markdown",
   "metadata": {},
   "source": [
    "# 3,6,9 박수"
   ]
  },
  {
   "cell_type": "code",
   "execution_count": 33,
   "metadata": {},
   "outputs": [],
   "source": [
    "def solution(number):\n",
    "    numbers = [i for i in range(1, number+1)]\n",
    "    \n",
    "    for num in numbers:\n",
    "        num = str(num)\n",
    "        if '3' in num or '6' in num or '9' in num:\n",
    "            for n in num:\n",
    "                if n == '3' or n == '6' or n == '9':\n",
    "                    print('짝', end='')\n",
    "            print(' ', end='')\n",
    "        else:\n",
    "            print(num, end=' ')    "
   ]
  },
  {
   "cell_type": "code",
   "execution_count": 34,
   "metadata": {},
   "outputs": [
    {
     "name": "stdout",
     "output_type": "stream",
     "text": [
      "1 2 짝 4 5 짝 7 8 짝 10 "
     ]
    }
   ],
   "source": [
    "solution(10)"
   ]
  },
  {
   "cell_type": "markdown",
   "metadata": {},
   "source": [
    "# 다시"
   ]
  },
  {
   "cell_type": "code",
   "execution_count": 44,
   "metadata": {},
   "outputs": [],
   "source": [
    "def solution(number):\n",
    "    numbers = [n for n in range(1, number+1)]\n",
    "    \n",
    "    for n in numbers:\n",
    "        n = str(n)\n",
    "        if '3' in n or '6' in n or '9' in n:\n",
    "            for i in n:\n",
    "                if i == '3' or i == '6' or i == '9':\n",
    "                    print('짝', end='')\n",
    "            print('', end=' ')\n",
    "        else:\n",
    "            print(n, end=' ')"
   ]
  },
  {
   "cell_type": "code",
   "execution_count": 45,
   "metadata": {},
   "outputs": [
    {
     "name": "stdout",
     "output_type": "stream",
     "text": [
      "1 2 짝 4 5 짝 7 8 짝 10 11 12 짝 14 15 짝 17 18 짝 20 "
     ]
    }
   ],
   "source": [
    "solution(20)"
   ]
  },
  {
   "cell_type": "markdown",
   "metadata": {},
   "source": [
    "# 3, 6, 9 세기"
   ]
  },
  {
   "cell_type": "code",
   "execution_count": 46,
   "metadata": {},
   "outputs": [],
   "source": [
    "def solution(number):\n",
    "    numbers = [i for i in range(1, number+1)]\n",
    "    \n",
    "    count = 0\n",
    "    for num in numbers:\n",
    "        current = num\n",
    "        while current != 0:\n",
    "            unit = current % 10\n",
    "            if unit == 3 or unit == 6 or unit == 9:\n",
    "                count += 1\n",
    "            current //= 10\n",
    "    \n",
    "    return count"
   ]
  },
  {
   "cell_type": "code",
   "execution_count": 48,
   "metadata": {},
   "outputs": [
    {
     "data": {
      "text/plain": [
       "6"
      ]
     },
     "execution_count": 48,
     "metadata": {},
     "output_type": "execute_result"
    }
   ],
   "source": [
    "solution(20)"
   ]
  },
  {
   "cell_type": "markdown",
   "metadata": {},
   "source": [
    "# 3 6 9\n",
    "- 문자열로 바꾸어서 하나씩 확인\n",
    "- 10으로 나눈 나머지가 3, 6, 9 인지 확인하고 10으로 나눈 몫으로 갱신\n",
    "- 1부터 입력 숫자까지의 정수 리스트를 만들어서 반복할 수 있고, 반복문에서 만들어서 바로 실행할 수도 있음"
   ]
  },
  {
   "cell_type": "code",
   "execution_count": 59,
   "metadata": {},
   "outputs": [],
   "source": [
    "def solution(number):\n",
    "    numbers = [n for n in range(1, number+1)]\n",
    "    \n",
    "    for n in numbers:\n",
    "        n = str(n)\n",
    "        if '3' in n or '6' in n or '9' in n:\n",
    "            for i in n:\n",
    "                if i == '3' or i == '6' or i == '9':\n",
    "                    print('짝', end='')\n",
    "            print('', end=' ')\n",
    "        else:\n",
    "            print(n, end=' ')"
   ]
  },
  {
   "cell_type": "code",
   "execution_count": 60,
   "metadata": {},
   "outputs": [
    {
     "name": "stdout",
     "output_type": "stream",
     "text": [
      "1 2 짝 4 5 짝 7 8 짝 10 11 12 짝 14 15 짝 17 18 짝 20 21 22 짝 24 25 짝 27 28 짝 짝 짝 짝 짝짝 "
     ]
    }
   ],
   "source": [
    "solution(33)"
   ]
  },
  {
   "cell_type": "code",
   "execution_count": 61,
   "metadata": {},
   "outputs": [],
   "source": [
    "def solution(number):\n",
    "    count = 0\n",
    "    for num in range(1, number+1):\n",
    "        current = num\n",
    "        while current != 0:\n",
    "            unit = current % 10\n",
    "            if unit == 3 or unit == 6 or unit == 9:\n",
    "                count += 1\n",
    "            current //= 10\n",
    "    return count"
   ]
  },
  {
   "cell_type": "code",
   "execution_count": 66,
   "metadata": {},
   "outputs": [
    {
     "data": {
      "text/plain": [
       "4"
      ]
     },
     "execution_count": 66,
     "metadata": {},
     "output_type": "execute_result"
    }
   ],
   "source": [
    "solution(13)"
   ]
  },
  {
   "cell_type": "markdown",
   "metadata": {},
   "source": [
    "# 토익 초급반 인원 수 세기\n",
    "- 650 이상 800 미만"
   ]
  },
  {
   "cell_type": "code",
   "execution_count": 67,
   "metadata": {},
   "outputs": [],
   "source": [
    "def solution(list):\n",
    "    count = 0\n",
    "    for i in list:\n",
    "        if 650 <= i < 800:\n",
    "            count += 1\n",
    "    return count"
   ]
  },
  {
   "cell_type": "code",
   "execution_count": 68,
   "metadata": {},
   "outputs": [
    {
     "data": {
      "text/plain": [
       "3"
      ]
     },
     "execution_count": 68,
     "metadata": {},
     "output_type": "execute_result"
    }
   ],
   "source": [
    "samples = [600, 650, 700, 750, 800, 900]\n",
    "solution(samples)"
   ]
  },
  {
   "cell_type": "markdown",
   "metadata": {},
   "source": [
    "# Palindrome인지 확인하기"
   ]
  },
  {
   "cell_type": "code",
   "execution_count": 69,
   "metadata": {},
   "outputs": [],
   "source": [
    "def solution(string):\n",
    "    value = ''\n",
    "    for s in string:\n",
    "        if s != ' ' and s != '.':\n",
    "            value += s\n",
    "    \n",
    "    start, end = 0, len(value)-1\n",
    "    while start < end:\n",
    "        if value[start] != value[end]:\n",
    "            return False\n",
    "        start += 1\n",
    "        end -= 1\n",
    "    return True"
   ]
  },
  {
   "cell_type": "code",
   "execution_count": 70,
   "metadata": {},
   "outputs": [
    {
     "name": "stdout",
     "output_type": "stream",
     "text": [
      "True\n",
      "False\n"
     ]
    }
   ],
   "source": [
    "sample1 = 'never odd or even'\n",
    "sample2 = 'this is false'\n",
    "\n",
    "print(solution(sample1))\n",
    "print(solution(sample2))"
   ]
  },
  {
   "cell_type": "markdown",
   "metadata": {},
   "source": [
    "# 중복문자 제거하기"
   ]
  },
  {
   "cell_type": "code",
   "execution_count": 74,
   "metadata": {},
   "outputs": [],
   "source": [
    "def solution(string):\n",
    "    value = string[0]\n",
    "    \n",
    "    for i in range(1, len(string)):\n",
    "        if string[i-1] != string[i]:\n",
    "            value += string[i]\n",
    "    \n",
    "    return value"
   ]
  },
  {
   "cell_type": "code",
   "execution_count": 75,
   "metadata": {},
   "outputs": [
    {
     "data": {
      "text/plain": [
       "'my name is Dojun'"
      ]
     },
     "execution_count": 75,
     "metadata": {},
     "output_type": "execute_result"
    }
   ],
   "source": [
    "solution('myyyy nameee is Dojun')"
   ]
  },
  {
   "cell_type": "markdown",
   "metadata": {},
   "source": [
    "# 평균보다 작은 숫자 세기"
   ]
  },
  {
   "cell_type": "code",
   "execution_count": 76,
   "metadata": {},
   "outputs": [],
   "source": [
    "def solution(list):\n",
    "    count = 0\n",
    "    sum = 0\n",
    "    for i in list:\n",
    "        sum += i\n",
    "    average = sum / len(list)\n",
    "    \n",
    "    for i in list:\n",
    "        if i < average:\n",
    "            count += 1\n",
    "    \n",
    "    return count"
   ]
  },
  {
   "cell_type": "code",
   "execution_count": 77,
   "metadata": {},
   "outputs": [
    {
     "data": {
      "text/plain": [
       "2"
      ]
     },
     "execution_count": 77,
     "metadata": {},
     "output_type": "execute_result"
    }
   ],
   "source": [
    "samples = [1, 2, 3, 4, 5]\n",
    "solution(samples)"
   ]
  },
  {
   "cell_type": "markdown",
   "metadata": {},
   "source": [
    "# a부터 b까지의 숫자 모두 더하기\n",
    "- 1부터 a-1까지 숫자를 구한다\n",
    "- 1부터 b까지의 숫자를 구한다\n",
    "- 두 값을 뺀다"
   ]
  },
  {
   "cell_type": "code",
   "execution_count": 78,
   "metadata": {},
   "outputs": [],
   "source": [
    "def function(number):\n",
    "    numbers = [n for n in range(1, number+1)]\n",
    "\n",
    "    total = 0\n",
    "    for n in numbers:\n",
    "        total += n\n",
    "        \n",
    "    return total\n",
    "\n",
    "def solution(a, b):\n",
    "    start = function(a-1)\n",
    "    end = function(b)\n",
    "    return end - start"
   ]
  },
  {
   "cell_type": "code",
   "execution_count": 79,
   "metadata": {},
   "outputs": [
    {
     "data": {
      "text/plain": [
       "45"
      ]
     },
     "execution_count": 79,
     "metadata": {},
     "output_type": "execute_result"
    }
   ],
   "source": [
    "solution(5, 10)"
   ]
  },
  {
   "cell_type": "code",
   "execution_count": 80,
   "metadata": {},
   "outputs": [
    {
     "data": {
      "text/plain": [
       "45"
      ]
     },
     "execution_count": 80,
     "metadata": {},
     "output_type": "execute_result"
    }
   ],
   "source": [
    "5+6+7+8+9+10"
   ]
  },
  {
   "cell_type": "markdown",
   "metadata": {},
   "source": [
    "# 최대값과 최소값을 제외한 합계 구하기"
   ]
  },
  {
   "cell_type": "code",
   "execution_count": 82,
   "metadata": {},
   "outputs": [],
   "source": [
    "def solution(list):\n",
    "    min = 101\n",
    "    max = 0\n",
    "    \n",
    "    for i in list:\n",
    "        if i < min and i != 0:\n",
    "            min = i\n",
    "        if i > max:\n",
    "            max = i\n",
    "    \n",
    "    sum = 0\n",
    "    for i in list:\n",
    "        sum += i\n",
    "    \n",
    "    return sum - min - max"
   ]
  },
  {
   "cell_type": "code",
   "execution_count": 83,
   "metadata": {},
   "outputs": [
    {
     "data": {
      "text/plain": [
       "9"
      ]
     },
     "execution_count": 83,
     "metadata": {},
     "output_type": "execute_result"
    }
   ],
   "source": [
    "samples = [1, 2, 3, 4, 5]\n",
    "solution(samples)"
   ]
  },
  {
   "cell_type": "markdown",
   "metadata": {},
   "source": [
    "# 첫번째 최대값에서 두번째 최소값을 빼기"
   ]
  },
  {
   "cell_type": "code",
   "execution_count": 84,
   "metadata": {},
   "outputs": [],
   "source": [
    "def function(list):\n",
    "    max = -1\n",
    "    for i in list:\n",
    "        if i > max:\n",
    "            max = i\n",
    "    return max\n",
    "\n",
    "def make_list(list, max):\n",
    "    values = []\n",
    "    for i in list:\n",
    "        if i != max:\n",
    "            values.append(i)\n",
    "    return values\n",
    "\n",
    "def solution(list):\n",
    "    max1 = function(list)\n",
    "    newlist = make_list(list, max1)\n",
    "    max2 = function(newlist)\n",
    "    return max1 - max2"
   ]
  },
  {
   "cell_type": "code",
   "execution_count": 85,
   "metadata": {},
   "outputs": [
    {
     "data": {
      "text/plain": [
       "5"
      ]
     },
     "execution_count": 85,
     "metadata": {},
     "output_type": "execute_result"
    }
   ],
   "source": [
    "samples = [1, 2, 3, 4, 5, 10]\n",
    "solution(samples)"
   ]
  },
  {
   "cell_type": "markdown",
   "metadata": {},
   "source": [
    "# 등급별 인원 수 세기"
   ]
  },
  {
   "cell_type": "code",
   "execution_count": 88,
   "metadata": {},
   "outputs": [],
   "source": [
    "def solution(list):\n",
    "    grades = [0 for _ in range(5)]\n",
    "    \n",
    "    for i in list:\n",
    "        if 85 <= i:\n",
    "            grades[0] += 1\n",
    "        elif 70 <= i:\n",
    "            grades[1] += 1\n",
    "        elif 55 <= i:\n",
    "            grades[2] += 1\n",
    "        elif 40 <= i:\n",
    "            grades[3] += 1\n",
    "        elif i < 40:\n",
    "            grades[4] += 1\n",
    "    \n",
    "    return grades"
   ]
  },
  {
   "cell_type": "code",
   "execution_count": 89,
   "metadata": {},
   "outputs": [
    {
     "data": {
      "text/plain": [
       "[2, 2, 1, 2, 1]"
      ]
     },
     "execution_count": 89,
     "metadata": {},
     "output_type": "execute_result"
    }
   ],
   "source": [
    "samples = [100, 90, 80, 70, 60, 50, 40, 30]\n",
    "solution(samples)"
   ]
  },
  {
   "cell_type": "code",
   "execution_count": null,
   "metadata": {},
   "outputs": [],
   "source": [
    "2, 2, 1, 2, 1"
   ]
  },
  {
   "cell_type": "markdown",
   "metadata": {},
   "source": [
    "# 점프하는 개구리"
   ]
  },
  {
   "cell_type": "code",
   "execution_count": 90,
   "metadata": {},
   "outputs": [],
   "source": [
    "def solution(list):\n",
    "    current = 0\n",
    "    jumps = 0\n",
    "    while current < len(list):\n",
    "        current += list[current]\n",
    "        jumps += 1\n",
    "    return jumps"
   ]
  },
  {
   "cell_type": "code",
   "execution_count": 92,
   "metadata": {},
   "outputs": [
    {
     "data": {
      "text/plain": [
       "3"
      ]
     },
     "execution_count": 92,
     "metadata": {},
     "output_type": "execute_result"
    }
   ],
   "source": [
    "samples = [1, 2, 1, 2, 1, 2]\n",
    "samples2 = [3, 4, 3, 4, 3, 4, 3, 4]\n",
    "solution(samples2)"
   ]
  },
  {
   "cell_type": "markdown",
   "metadata": {},
   "source": [
    "# k보다 큰 값 갯수 구하기"
   ]
  },
  {
   "cell_type": "code",
   "execution_count": 93,
   "metadata": {},
   "outputs": [],
   "source": [
    "def solution(list, k):\n",
    "    count = 0\n",
    "    for i in list:\n",
    "        if i > k:\n",
    "            count += 1\n",
    "    return count"
   ]
  },
  {
   "cell_type": "code",
   "execution_count": 94,
   "metadata": {},
   "outputs": [
    {
     "data": {
      "text/plain": [
       "2"
      ]
     },
     "execution_count": 94,
     "metadata": {},
     "output_type": "execute_result"
    }
   ],
   "source": [
    "sample = [1, 2, 3, 4, 5, 6, 7]\n",
    "solution(sample, 5)"
   ]
  },
  {
   "cell_type": "markdown",
   "metadata": {},
   "source": [
    "# a를 z로 바꾸는 함수"
   ]
  },
  {
   "cell_type": "code",
   "execution_count": 97,
   "metadata": {},
   "outputs": [],
   "source": [
    "def solution(string):\n",
    "    ls_string = list(string)\n",
    "    for i in range(len(ls_string)):\n",
    "        if ls_string[i] == 'a':\n",
    "            ls_string[i] = 'z'\n",
    "        elif ls_string[i] == 'z':\n",
    "            ls_string[i] = 'a'\n",
    "    return ''.join(ls_string)"
   ]
  },
  {
   "cell_type": "code",
   "execution_count": 99,
   "metadata": {},
   "outputs": [
    {
     "data": {
      "text/plain": [
       "'zhello my name is Dojun zzzzz'"
      ]
     },
     "execution_count": 99,
     "metadata": {},
     "output_type": "execute_result"
    }
   ],
   "source": [
    "sample = 'ahello my nzme is Dojun aaaaa'\n",
    "solution(sample)"
   ]
  },
  {
   "cell_type": "markdown",
   "metadata": {},
   "source": [
    "# j와 k를 포함하는 문자 세기"
   ]
  },
  {
   "cell_type": "code",
   "execution_count": 100,
   "metadata": {},
   "outputs": [],
   "source": [
    "def solution(list):\n",
    "    count = 0\n",
    "    for name in list:\n",
    "        for n in name:\n",
    "            if n == 'j' or n == 'k':\n",
    "                count += 1\n",
    "                break\n",
    "    return count"
   ]
  },
  {
   "cell_type": "code",
   "execution_count": 101,
   "metadata": {},
   "outputs": [
    {
     "data": {
      "text/plain": [
       "3"
      ]
     },
     "execution_count": 101,
     "metadata": {},
     "output_type": "execute_result"
    }
   ],
   "source": [
    "names = ['james', 'john', 'luke', 'via', 'michael']\n",
    "solution(names)"
   ]
  },
  {
   "cell_type": "markdown",
   "metadata": {},
   "source": [
    "# 거스름돈 계산하기"
   ]
  },
  {
   "cell_type": "code",
   "execution_count": 102,
   "metadata": {},
   "outputs": [],
   "source": [
    "def solution(prices, money):\n",
    "    total = 0\n",
    "    for price in prices:\n",
    "        total += price\n",
    "    \n",
    "    final = money - total\n",
    "    if final < 0:\n",
    "        final = -1\n",
    "    return final"
   ]
  },
  {
   "cell_type": "code",
   "execution_count": 106,
   "metadata": {},
   "outputs": [
    {
     "data": {
      "text/plain": [
       "500"
      ]
     },
     "execution_count": 106,
     "metadata": {},
     "output_type": "execute_result"
    }
   ],
   "source": [
    "solution([4000, 5000, 500], 10000)"
   ]
  },
  {
   "cell_type": "markdown",
   "metadata": {},
   "source": [
    "# k번째 작은 값 구하기"
   ]
  },
  {
   "cell_type": "code",
   "execution_count": 107,
   "metadata": {},
   "outputs": [],
   "source": [
    "def solution(list, k):\n",
    "    list.sort()\n",
    "    return list[k-1]"
   ]
  },
  {
   "cell_type": "code",
   "execution_count": 109,
   "metadata": {},
   "outputs": [
    {
     "data": {
      "text/plain": [
       "8"
      ]
     },
     "execution_count": 109,
     "metadata": {},
     "output_type": "execute_result"
    }
   ],
   "source": [
    "sample = [10, 5, 20, 3, 15, 8]\n",
    "solution(sample, 3)"
   ]
  },
  {
   "cell_type": "markdown",
   "metadata": {},
   "source": [
    "# 거스름돈 계산하기"
   ]
  },
  {
   "cell_type": "code",
   "execution_count": 110,
   "metadata": {},
   "outputs": [],
   "source": [
    "def solution(prices, money):\n",
    "    total = 0\n",
    "    for price in prices:\n",
    "        total += price\n",
    "    value = money - total\n",
    "    if value < 0:\n",
    "        value = -1\n",
    "    return value"
   ]
  },
  {
   "cell_type": "code",
   "execution_count": 114,
   "metadata": {},
   "outputs": [
    {
     "data": {
      "text/plain": [
       "1000"
      ]
     },
     "execution_count": 114,
     "metadata": {},
     "output_type": "execute_result"
    }
   ],
   "source": [
    "prices = [3000, 2000, 4000]\n",
    "solution(prices, 10000)"
   ]
  },
  {
   "cell_type": "markdown",
   "metadata": {},
   "source": [
    "# 최대값과 최소값을 제외한 합계 구하기"
   ]
  },
  {
   "cell_type": "code",
   "execution_count": 115,
   "metadata": {},
   "outputs": [],
   "source": [
    "def solution(list):\n",
    "    min = 101\n",
    "    max = -1\n",
    "    for i in list:\n",
    "        if i < min and i != 0:\n",
    "            min = i\n",
    "        if i > max:\n",
    "            max = i\n",
    "    \n",
    "    sum = 0\n",
    "    for i in list:\n",
    "        sum += i\n",
    "    \n",
    "    return sum - min - max"
   ]
  },
  {
   "cell_type": "code",
   "execution_count": 116,
   "metadata": {},
   "outputs": [
    {
     "data": {
      "text/plain": [
       "9"
      ]
     },
     "execution_count": 116,
     "metadata": {},
     "output_type": "execute_result"
    }
   ],
   "source": [
    "samples = [1, 2, 3, 4, 5]\n",
    "solution(samples)"
   ]
  },
  {
   "cell_type": "markdown",
   "metadata": {},
   "source": [
    "# 조건을 충족하는 인원 수 세기"
   ]
  },
  {
   "cell_type": "code",
   "execution_count": 117,
   "metadata": {},
   "outputs": [],
   "source": [
    "def solution(list):\n",
    "    count = 0\n",
    "    for i in list:\n",
    "        if i <= 200:\n",
    "            count += 1\n",
    "    return count"
   ]
  },
  {
   "cell_type": "code",
   "execution_count": 118,
   "metadata": {},
   "outputs": [
    {
     "data": {
      "text/plain": [
       "2"
      ]
     },
     "execution_count": 118,
     "metadata": {},
     "output_type": "execute_result"
    }
   ],
   "source": [
    "samples = [100, 200, 300, 400]\n",
    "solution(samples)"
   ]
  },
  {
   "cell_type": "markdown",
   "metadata": {},
   "source": [
    "# 세금을 계산 한 지불 금액 구하기"
   ]
  },
  {
   "cell_type": "code",
   "execution_count": 123,
   "metadata": {},
   "outputs": [],
   "source": [
    "def solution(money, grade):\n",
    "    if grade == 'S':\n",
    "        payment = money * 1.05\n",
    "    elif grade == 'G':\n",
    "        payment = money * 1.10\n",
    "    elif grade == 'V':\n",
    "        payment = money * 1.15\n",
    "    \n",
    "    return int(payment)"
   ]
  },
  {
   "cell_type": "code",
   "execution_count": 126,
   "metadata": {},
   "outputs": [
    {
     "data": {
      "text/plain": [
       "11500"
      ]
     },
     "execution_count": 126,
     "metadata": {},
     "output_type": "execute_result"
    }
   ],
   "source": [
    "solution(10000, 'V')"
   ]
  },
  {
   "cell_type": "markdown",
   "metadata": {},
   "source": [
    "# 3 6 9가 몇 번 들어있는지 확인하기"
   ]
  },
  {
   "cell_type": "markdown",
   "metadata": {},
   "source": [
    "1. "
   ]
  },
  {
   "cell_type": "code",
   "execution_count": 1,
   "metadata": {},
   "outputs": [],
   "source": [
    "def solution(number):\n",
    "    count = 0\n",
    "    for num in range(1, number+1):\n",
    "        num = str(num)\n",
    "        if '3' in num or '6' in num or '9' in num:\n",
    "            for n in num:\n",
    "                if n == '3' or n == '6' or n == '9':\n",
    "                    count += 1\n",
    "    return count"
   ]
  },
  {
   "cell_type": "code",
   "execution_count": 2,
   "metadata": {},
   "outputs": [
    {
     "data": {
      "text/plain": [
       "3"
      ]
     },
     "execution_count": 2,
     "metadata": {},
     "output_type": "execute_result"
    }
   ],
   "source": [
    "solution(10)"
   ]
  },
  {
   "cell_type": "markdown",
   "metadata": {},
   "source": [
    "2."
   ]
  },
  {
   "cell_type": "code",
   "execution_count": 3,
   "metadata": {},
   "outputs": [],
   "source": [
    "def solution(number):\n",
    "    count = 0\n",
    "    for num in range(1, number+1):\n",
    "        current = num\n",
    "        while current != 0:\n",
    "            unit = current % 10\n",
    "            if unit == 3 or unit == 6 or unit == 9:\n",
    "                count += 1\n",
    "            current //= 10\n",
    "    return count"
   ]
  },
  {
   "cell_type": "code",
   "execution_count": 7,
   "metadata": {},
   "outputs": [
    {
     "data": {
      "text/plain": [
       "4"
      ]
     },
     "execution_count": 7,
     "metadata": {},
     "output_type": "execute_result"
    }
   ],
   "source": [
    "solution(13)"
   ]
  },
  {
   "cell_type": "markdown",
   "metadata": {},
   "source": [
    "# 파일 업로드 체크하는 함수 만들기"
   ]
  },
  {
   "cell_type": "code",
   "execution_count": 8,
   "metadata": {},
   "outputs": [],
   "source": [
    "def solution(file_info):\n",
    "    success, fail = 0, 0\n",
    "    for file in file_info:\n",
    "        splited = file.split(',')\n",
    "        if splited[0] == 'jpg' and int(splited[2]) < 1000:\n",
    "            success += 1\n",
    "        else:\n",
    "            fail += 1\n",
    "    return success, fail"
   ]
  },
  {
   "cell_type": "code",
   "execution_count": 9,
   "metadata": {},
   "outputs": [
    {
     "data": {
      "text/plain": [
       "(2, 1)"
      ]
     },
     "execution_count": 9,
     "metadata": {},
     "output_type": "execute_result"
    }
   ],
   "source": [
    "file_infos = ['jpg,file1.jpg,500', 'jpeg,file2.jpeg,700', 'jpg,file3.jpg,200']\n",
    "solution(file_infos)"
   ]
  },
  {
   "cell_type": "markdown",
   "metadata": {},
   "source": [
    "# Palindrome인지 확인하기"
   ]
  },
  {
   "cell_type": "markdown",
   "metadata": {},
   "source": [
    "1."
   ]
  },
  {
   "cell_type": "code",
   "execution_count": 12,
   "metadata": {},
   "outputs": [],
   "source": [
    "def solution(sent):\n",
    "    my_sent = ''\n",
    "    for s in sent:\n",
    "        if s != '.' and s != ' ':\n",
    "            my_sent += s\n",
    "    \n",
    "    start, end = 0, len(my_sent)-1\n",
    "    while start < end:\n",
    "        if my_sent[start] != my_sent[end]:\n",
    "            return False\n",
    "        start += 1\n",
    "        end -= 1\n",
    "    return True"
   ]
  },
  {
   "cell_type": "code",
   "execution_count": 14,
   "metadata": {},
   "outputs": [
    {
     "name": "stdout",
     "output_type": "stream",
     "text": [
      "True\n",
      "False\n"
     ]
    }
   ],
   "source": [
    "sent1 = 'never odd or even'\n",
    "sent2 = \"this isn't a palindrome\"\n",
    "\n",
    "print(solution(sent1))\n",
    "print(solution(sent2))"
   ]
  },
  {
   "cell_type": "markdown",
   "metadata": {},
   "source": [
    "2."
   ]
  },
  {
   "cell_type": "code",
   "execution_count": 21,
   "metadata": {},
   "outputs": [],
   "source": [
    "def solution(sent):\n",
    "    my_sent = ''\n",
    "    for s in sent:\n",
    "        if s != ',' and s != ' ':\n",
    "            my_sent += s\n",
    "    \n",
    "    ls_sent = list(my_sent)\n",
    "    origin = my_sent\n",
    "    \n",
    "    ls_sent.reverse()\n",
    "    reverted = ''.join(ls_sent)\n",
    "    \n",
    "    return origin == reverted"
   ]
  },
  {
   "cell_type": "code",
   "execution_count": 23,
   "metadata": {},
   "outputs": [
    {
     "name": "stdout",
     "output_type": "stream",
     "text": [
      "True\n",
      "False\n"
     ]
    }
   ],
   "source": [
    "sent1 = 'never odd or even'\n",
    "sent2 = \"this isn't a palindrome\"\n",
    "\n",
    "print(solution(sent1))\n",
    "print(solution(sent2))"
   ]
  },
  {
   "cell_type": "code",
   "execution_count": 17,
   "metadata": {},
   "outputs": [],
   "source": [
    "[1,2,3].reverse()"
   ]
  },
  {
   "cell_type": "markdown",
   "metadata": {},
   "source": [
    "palindrome인지 확인하는 방법엔 두 가지가 있음\n",
    "- 전처리 후, 순차적으로 앞의 글자와 뒤의 글자가 같은 지 확인\n",
    "- 전처리 후, 원래 순서의 문장과 순서를 바꾼 문장이 같은 지 확인"
   ]
  },
  {
   "cell_type": "markdown",
   "metadata": {},
   "source": [
    "# 중복되는 문자 지우기"
   ]
  },
  {
   "cell_type": "code",
   "execution_count": 24,
   "metadata": {},
   "outputs": [],
   "source": [
    "def solution(sent):\n",
    "    value = sent[0]\n",
    "    \n",
    "    for i in range(1, len(sent)):\n",
    "        if sent[i-1] != sent[i]:\n",
    "            value += sent[i]\n",
    "    \n",
    "    return value"
   ]
  },
  {
   "cell_type": "code",
   "execution_count": 25,
   "metadata": {},
   "outputs": [
    {
     "data": {
      "text/plain": [
       "'my name is Dojun'"
      ]
     },
     "execution_count": 25,
     "metadata": {},
     "output_type": "execute_result"
    }
   ],
   "source": [
    "sample = 'myyyyy name isssssss Dojuuuuun'\n",
    "solution(sample)"
   ]
  },
  {
   "cell_type": "markdown",
   "metadata": {},
   "source": [
    "# 평균보다 작은 수 갯수 구하기"
   ]
  },
  {
   "cell_type": "code",
   "execution_count": 26,
   "metadata": {},
   "outputs": [],
   "source": [
    "def solution(list):\n",
    "    sum = 0\n",
    "    for i in list:\n",
    "        sum += i\n",
    "    average = sum / len(list)\n",
    "    \n",
    "    cnt = 0\n",
    "    for i in list:\n",
    "        if i < average:\n",
    "            cnt += 1\n",
    "    \n",
    "    return cnt"
   ]
  },
  {
   "cell_type": "code",
   "execution_count": 27,
   "metadata": {},
   "outputs": [
    {
     "data": {
      "text/plain": [
       "2"
      ]
     },
     "execution_count": 27,
     "metadata": {},
     "output_type": "execute_result"
    }
   ],
   "source": [
    "samples = [1, 2, 3, 4, 5]\n",
    "solution(samples)"
   ]
  },
  {
   "cell_type": "code",
   "execution_count": null,
   "metadata": {},
   "outputs": [],
   "source": []
  },
  {
   "cell_type": "code",
   "execution_count": null,
   "metadata": {},
   "outputs": [],
   "source": []
  },
  {
   "cell_type": "code",
   "execution_count": null,
   "metadata": {},
   "outputs": [],
   "source": []
  },
  {
   "cell_type": "code",
   "execution_count": null,
   "metadata": {},
   "outputs": [],
   "source": []
  },
  {
   "cell_type": "code",
   "execution_count": null,
   "metadata": {},
   "outputs": [],
   "source": []
  }
 ],
 "metadata": {
  "kernelspec": {
   "display_name": "Python 3",
   "language": "python",
   "name": "python3"
  },
  "language_info": {
   "codemirror_mode": {
    "name": "ipython",
    "version": 3
   },
   "file_extension": ".py",
   "mimetype": "text/x-python",
   "name": "python",
   "nbconvert_exporter": "python",
   "pygments_lexer": "ipython3",
   "version": "3.6.9"
  }
 },
 "nbformat": 4,
 "nbformat_minor": 2
}
