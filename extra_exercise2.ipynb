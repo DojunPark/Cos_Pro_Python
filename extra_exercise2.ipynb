{
 "cells": [
  {
   "cell_type": "markdown",
   "metadata": {},
   "source": [
    "# 티셔츠 사이즈별로 수량 세기"
   ]
  },
  {
   "cell_type": "code",
   "execution_count": 1,
   "metadata": {},
   "outputs": [],
   "source": [
    "def solution(list):\n",
    "    sizes = [0 for _ in range(6)]\n",
    "    \n",
    "    for size in list:\n",
    "        if size == 'XS':\n",
    "            sizes[0] += 1\n",
    "        elif size == 'S':\n",
    "            sizes[1] += 1\n",
    "        elif size == 'M':\n",
    "            sizes[2] += 1\n",
    "        elif size == 'L':\n",
    "            sizes[3] += 1\n",
    "        elif size == 'XL':\n",
    "            sizes[4] += 1\n",
    "        elif size == 'XXL':\n",
    "            sizes[5] += 1\n",
    "            \n",
    "    return sizes"
   ]
  },
  {
   "cell_type": "code",
   "execution_count": 2,
   "metadata": {},
   "outputs": [
    {
     "data": {
      "text/plain": [
       "[0, 3, 0, 1, 1, 1]"
      ]
     },
     "execution_count": 2,
     "metadata": {},
     "output_type": "execute_result"
    }
   ],
   "source": [
    "ordered = ['XL', 'L', 'S', 'S', 'S', 'XXL']\n",
    "solution(ordered)"
   ]
  },
  {
   "cell_type": "markdown",
   "metadata": {},
   "source": [
    "# 할인율 적용하기"
   ]
  },
  {
   "cell_type": "code",
   "execution_count": 3,
   "metadata": {},
   "outputs": [],
   "source": [
    "def solution(price, grade):\n",
    "    if grade == 'S':\n",
    "        result = price * 0.95\n",
    "    elif grade == 'G':\n",
    "        result = price * 0.90\n",
    "    elif grade == 'V':\n",
    "        result = price * 0.85\n",
    "    return int(result)"
   ]
  },
  {
   "cell_type": "code",
   "execution_count": 5,
   "metadata": {},
   "outputs": [
    {
     "name": "stdout",
     "output_type": "stream",
     "text": [
      "9500\n",
      "9000\n",
      "8500\n"
     ]
    }
   ],
   "source": [
    "print(solution(10000, 'S'))\n",
    "print(solution(10000, 'G'))\n",
    "print(solution(10000, 'V'))"
   ]
  },
  {
   "cell_type": "markdown",
   "metadata": {},
   "source": [
    "# 두 날짜 사이 일 수 계산하기"
   ]
  },
  {
   "cell_type": "code",
   "execution_count": 15,
   "metadata": {},
   "outputs": [],
   "source": [
    "def func_a(m, d):\n",
    "    \n",
    "    days = [31, 28, 31, 30, 31, 30, 31, 31, 30, 31, 30, 31]\n",
    "    total = 0\n",
    "    for i in range(m-1):\n",
    "        total += days[i]\n",
    "    total += d-1\n",
    "    \n",
    "    return total\n",
    "\n",
    "def solution(st_m, st_d, en_m, en_d):\n",
    "    start = func_a(st_m, st_d)\n",
    "    end = func_a(en_m, en_d)\n",
    "    total = end - start\n",
    "    \n",
    "    return total"
   ]
  },
  {
   "cell_type": "code",
   "execution_count": 16,
   "metadata": {},
   "outputs": [
    {
     "data": {
      "text/plain": [
       "5"
      ]
     },
     "execution_count": 16,
     "metadata": {},
     "output_type": "execute_result"
    }
   ],
   "source": [
    "solution(1, 5, 1, 10)"
   ]
  },
  {
   "cell_type": "markdown",
   "metadata": {},
   "source": [
    "다시"
   ]
  },
  {
   "cell_type": "code",
   "execution_count": 12,
   "metadata": {},
   "outputs": [],
   "source": [
    "def func(m, d):\n",
    "    days = [31, 28, 31, 30, 31, 30, 31, 31, 30, 31, 30, 31]\n",
    "    \n",
    "    total = 0\n",
    "    for i in range(m-1):\n",
    "        total += days[i]\n",
    "    total += d -1\n",
    "    \n",
    "    return total\n",
    "\n",
    "def solution(s1, s2, e1, e2):\n",
    "    start = func(s1, s2)\n",
    "    end = func(e1, e2)\n",
    "    total = end - start\n",
    "    return total"
   ]
  },
  {
   "cell_type": "code",
   "execution_count": 17,
   "metadata": {},
   "outputs": [
    {
     "data": {
      "text/plain": [
       "4"
      ]
     },
     "execution_count": 17,
     "metadata": {},
     "output_type": "execute_result"
    }
   ],
   "source": [
    "solution(1, 6, 1, 10)"
   ]
  },
  {
   "cell_type": "markdown",
   "metadata": {},
   "source": [
    "# 최대 빈출 숫자의 빈도를 최소 빈출 숫자의 빈도로 나누기"
   ]
  },
  {
   "cell_type": "code",
   "execution_count": 20,
   "metadata": {},
   "outputs": [],
   "source": [
    "def get_count(list):\n",
    "    cnt = [0 for _ in range(101)]\n",
    "    for i in list:\n",
    "        cnt[i] += 1        \n",
    "    return cnt\n",
    "\n",
    "def get_max(list):\n",
    "    max = -1\n",
    "    for i in list:\n",
    "        if i > max:\n",
    "            max = i\n",
    "    return max\n",
    "\n",
    "def get_min(list):\n",
    "    min = 101\n",
    "    for i in list:\n",
    "        if i < min and i != 0:\n",
    "            min = i\n",
    "    return min\n",
    "\n",
    "def solution(list):\n",
    "    count = get_count(list)\n",
    "    max = get_max(count)\n",
    "    min = get_min(count)\n",
    "    return max // min"
   ]
  },
  {
   "cell_type": "code",
   "execution_count": 21,
   "metadata": {},
   "outputs": [
    {
     "data": {
      "text/plain": [
       "4"
      ]
     },
     "execution_count": 21,
     "metadata": {},
     "output_type": "execute_result"
    }
   ],
   "source": [
    "ls1 = [1, 2, 3, 4, 44, 22, 21, 45, 75, 32, 45, 31, 1, 2, 4, 2, 3, 2, 1, 4]\n",
    "solution(ls1)"
   ]
  },
  {
   "cell_type": "markdown",
   "metadata": {},
   "source": [
    "# 다시"
   ]
  },
  {
   "cell_type": "code",
   "execution_count": 22,
   "metadata": {},
   "outputs": [],
   "source": [
    "def get_cnt(list):\n",
    "    cnt = [0 for _ in range(101)]\n",
    "    for i in list:\n",
    "        cnt[i] += 1\n",
    "    return cnt\n",
    "\n",
    "def get_max(list):\n",
    "    max = 0\n",
    "    for i in list:\n",
    "        if i > max:\n",
    "            max = i\n",
    "    return max\n",
    "\n",
    "def get_min(list):\n",
    "    min = 101\n",
    "    for i in list:\n",
    "        if i < min and i != 0:\n",
    "            min = i\n",
    "    return min\n",
    "\n",
    "def solution(list):\n",
    "    cnt = get_cnt(list)\n",
    "    max = get_max(cnt)\n",
    "    min = get_min(cnt)\n",
    "    return max // min"
   ]
  },
  {
   "cell_type": "code",
   "execution_count": 23,
   "metadata": {},
   "outputs": [
    {
     "data": {
      "text/plain": [
       "5"
      ]
     },
     "execution_count": 23,
     "metadata": {},
     "output_type": "execute_result"
    }
   ],
   "source": [
    "samples = [1, 2, 3, 4, 5, 1, 2, 3, 1,2, 3, 1, 1]\n",
    "solution(samples)"
   ]
  },
  {
   "cell_type": "markdown",
   "metadata": {},
   "source": [
    "# 리스트 순서 바꿔서 출력"
   ]
  },
  {
   "cell_type": "code",
   "execution_count": 24,
   "metadata": {},
   "outputs": [],
   "source": [
    "def solution(list):\n",
    "    start = 0\n",
    "    end = len(list)-1\n",
    "    \n",
    "    while start < end:\n",
    "        list[start], list[end] = list[end], list[start]\n",
    "        start += 1\n",
    "        end -= 1\n",
    "    \n",
    "    return list"
   ]
  },
  {
   "cell_type": "code",
   "execution_count": 25,
   "metadata": {},
   "outputs": [
    {
     "data": {
      "text/plain": [
       "[6, 5, 4, 3, 2, 1]"
      ]
     },
     "execution_count": 25,
     "metadata": {},
     "output_type": "execute_result"
    }
   ],
   "source": [
    "samples = [1, 2, 3, 4, 5, 6]\n",
    "solution(samples)"
   ]
  },
  {
   "cell_type": "markdown",
   "metadata": {},
   "source": [
    "# 3 6 9 박수 치기"
   ]
  },
  {
   "cell_type": "code",
   "execution_count": 37,
   "metadata": {},
   "outputs": [],
   "source": [
    "def solution(number):\n",
    "    \n",
    "    numbers = [i for i in range(1, number+1)]\n",
    "    \n",
    "    for num in numbers:\n",
    "        num = str(num)\n",
    "        if '3' in num or '6' in num or '9' in num:\n",
    "                for n in num:\n",
    "                    if n == '3' or n == '6' or n == '9':\n",
    "                        print('짝', end='')\n",
    "                print(' ', end='')\n",
    "        else:\n",
    "            print(num, end=' ')"
   ]
  },
  {
   "cell_type": "code",
   "execution_count": 38,
   "metadata": {},
   "outputs": [
    {
     "name": "stdout",
     "output_type": "stream",
     "text": [
      "1 2 짝 4 5 짝 7 8 짝 10 11 12 짝 14 15 짝 17 18 짝 20 21 22 짝 24 25 짝 27 28 짝 짝 짝 짝 짝짝 "
     ]
    }
   ],
   "source": [
    "solution(33)"
   ]
  },
  {
   "cell_type": "markdown",
   "metadata": {},
   "source": [
    "# 토익 점수 충족하는 인원 세기"
   ]
  },
  {
   "cell_type": "code",
   "execution_count": 39,
   "metadata": {},
   "outputs": [],
   "source": [
    "def solution(list):\n",
    "    cnt = 0\n",
    "    for score in list:\n",
    "        if 650 <= score < 800:\n",
    "            cnt += 1\n",
    "    return cnt"
   ]
  },
  {
   "cell_type": "code",
   "execution_count": 40,
   "metadata": {},
   "outputs": [
    {
     "data": {
      "text/plain": [
       "2"
      ]
     },
     "execution_count": 40,
     "metadata": {},
     "output_type": "execute_result"
    }
   ],
   "source": [
    "values = [800, 700, 600, 500, 650]\n",
    "solution(values)"
   ]
  },
  {
   "cell_type": "markdown",
   "metadata": {},
   "source": [
    "# Palindrome 인지 확인하기"
   ]
  },
  {
   "cell_type": "code",
   "execution_count": 44,
   "metadata": {},
   "outputs": [],
   "source": [
    "def solution(sent):\n",
    "    \n",
    "    prep = ''\n",
    "    for i in sent:\n",
    "        if i != ',' and i != '.' and i != ' ':\n",
    "            prep += i\n",
    "    \n",
    "    start, end = 0, len(prep)-1\n",
    "    while start < end:\n",
    "        if prep[start] != prep[end]:\n",
    "            return False\n",
    "        start += 1\n",
    "        end -= 1\n",
    "    \n",
    "    return True"
   ]
  },
  {
   "cell_type": "code",
   "execution_count": 46,
   "metadata": {},
   "outputs": [
    {
     "name": "stdout",
     "output_type": "stream",
     "text": [
      "True\n",
      "False\n"
     ]
    }
   ],
   "source": [
    "sent1 = 'never odd or even'\n",
    "sent2 = 'This is normal sentence'\n",
    "\n",
    "print(solution(sent1))\n",
    "print(solution(sent2))"
   ]
  },
  {
   "cell_type": "markdown",
   "metadata": {},
   "source": [
    "다른 방법"
   ]
  },
  {
   "cell_type": "code",
   "execution_count": 55,
   "metadata": {},
   "outputs": [],
   "source": [
    "def solution(sent):\n",
    "    prep = ''\n",
    "    for s in sent:\n",
    "        if s != '.' and s != ' ':\n",
    "            prep += s\n",
    "    \n",
    "    ls_prep = list(prep)\n",
    "    forward = ''.join(ls_prep)\n",
    "    ls_prep.reverse()\n",
    "    backward = ''.join(ls_prep)\n",
    "    \n",
    "    return forward == backward"
   ]
  },
  {
   "cell_type": "code",
   "execution_count": 56,
   "metadata": {},
   "outputs": [
    {
     "name": "stdout",
     "output_type": "stream",
     "text": [
      "True\n",
      "False\n"
     ]
    }
   ],
   "source": [
    "sent1 = 'never odd or even'\n",
    "sent2 = 'This is normal sentence'\n",
    "\n",
    "print(solution(sent1))\n",
    "print(solution(sent2))"
   ]
  },
  {
   "cell_type": "markdown",
   "metadata": {},
   "source": [
    "다시 다시"
   ]
  },
  {
   "cell_type": "code",
   "execution_count": 57,
   "metadata": {},
   "outputs": [],
   "source": [
    "def solution(sentence):\n",
    "    purified = ''\n",
    "    for s in sentence:\n",
    "        if s != '.' and s != ' ':\n",
    "            purified += s\n",
    "    \n",
    "    ls_sent = list(purified)\n",
    "    ls_sent.reverse()\n",
    "    backward = ''.join(ls_sent)\n",
    "    \n",
    "    return purified == backward"
   ]
  },
  {
   "cell_type": "code",
   "execution_count": 58,
   "metadata": {},
   "outputs": [
    {
     "name": "stdout",
     "output_type": "stream",
     "text": [
      "True\n",
      "False\n"
     ]
    }
   ],
   "source": [
    "sent1 = 'never odd or even'\n",
    "sent2 = 'This is normal sentence'\n",
    "\n",
    "print(solution(sent1))\n",
    "print(solution(sent2))"
   ]
  },
  {
   "cell_type": "markdown",
   "metadata": {},
   "source": [
    "# 중복문자 제거하기"
   ]
  },
  {
   "cell_type": "code",
   "execution_count": 59,
   "metadata": {},
   "outputs": [],
   "source": [
    "def solution(sent):\n",
    "    purified = sent[0]\n",
    "    \n",
    "    for i in range(1, len(sent)-1):\n",
    "        if sent[i-1] != sent[i]:\n",
    "            purified += sent[i]\n",
    "    \n",
    "    return purified"
   ]
  },
  {
   "cell_type": "code",
   "execution_count": 62,
   "metadata": {},
   "outputs": [
    {
     "data": {
      "text/plain": [
       "'My name is Dojun'"
      ]
     },
     "execution_count": 62,
     "metadata": {},
     "output_type": "execute_result"
    }
   ],
   "source": [
    "sent = 'MMMMMy nnnnnaaammmee isss DDDoojjjjuuunnnnnnn'\n",
    "solution(sent)"
   ]
  },
  {
   "cell_type": "markdown",
   "metadata": {},
   "source": [
    "# 평균보다 작은 숫자 세기"
   ]
  },
  {
   "cell_type": "code",
   "execution_count": 64,
   "metadata": {},
   "outputs": [],
   "source": [
    "def solution(list):\n",
    "    sum = 0\n",
    "    for i in list:\n",
    "        sum += i\n",
    "    average = sum / len(list)\n",
    "    \n",
    "    cnt = 0\n",
    "    for i in list:\n",
    "        if i < average:\n",
    "            cnt += 1\n",
    "    print(average)\n",
    "    return cnt"
   ]
  },
  {
   "cell_type": "code",
   "execution_count": 65,
   "metadata": {},
   "outputs": [
    {
     "name": "stdout",
     "output_type": "stream",
     "text": [
      "26.555555555555557\n"
     ]
    },
    {
     "data": {
      "text/plain": [
       "4"
      ]
     },
     "execution_count": 65,
     "metadata": {},
     "output_type": "execute_result"
    }
   ],
   "source": [
    "values = [10, 20, 30, 40, 20, 30, 44, 33, 12]\n",
    "solution(values)"
   ]
  },
  {
   "cell_type": "markdown",
   "metadata": {},
   "source": [
    "# a부터 b까지 숫자 더하기"
   ]
  },
  {
   "cell_type": "code",
   "execution_count": 66,
   "metadata": {},
   "outputs": [],
   "source": [
    "def solution(a, b):\n",
    "    list = [i for i in range(a, b+1)]\n",
    "    print(list)\n",
    "    total = 0\n",
    "    for i in list:\n",
    "        total += i\n",
    "    return total"
   ]
  },
  {
   "cell_type": "code",
   "execution_count": 67,
   "metadata": {},
   "outputs": [
    {
     "name": "stdout",
     "output_type": "stream",
     "text": [
      "[10, 11, 12, 13, 14, 15]\n"
     ]
    },
    {
     "data": {
      "text/plain": [
       "75"
      ]
     },
     "execution_count": 67,
     "metadata": {},
     "output_type": "execute_result"
    }
   ],
   "source": [
    "solution(10, 15)"
   ]
  },
  {
   "cell_type": "markdown",
   "metadata": {},
   "source": [
    "다른 방법"
   ]
  },
  {
   "cell_type": "code",
   "execution_count": 69,
   "metadata": {},
   "outputs": [],
   "source": [
    "def summation(num):\n",
    "    list = [i for i in range(1, num+1)]\n",
    "    total = 0\n",
    "    for i in list:\n",
    "        total += i\n",
    "    return total\n",
    "\n",
    "def solution(a, b):\n",
    "    sum_a = summation(a-1)\n",
    "    sum_b = summation(b)\n",
    "    if sum_a < sum_b:\n",
    "        result = sum_b - sum_a\n",
    "    else:\n",
    "        result = sum_a - sum_b\n",
    "    return result"
   ]
  },
  {
   "cell_type": "code",
   "execution_count": 70,
   "metadata": {},
   "outputs": [
    {
     "data": {
      "text/plain": [
       "75"
      ]
     },
     "execution_count": 70,
     "metadata": {},
     "output_type": "execute_result"
    }
   ],
   "source": [
    "solution(10, 15)"
   ]
  },
  {
   "cell_type": "code",
   "execution_count": null,
   "metadata": {},
   "outputs": [],
   "source": []
  },
  {
   "cell_type": "code",
   "execution_count": null,
   "metadata": {},
   "outputs": [],
   "source": []
  },
  {
   "cell_type": "code",
   "execution_count": null,
   "metadata": {},
   "outputs": [],
   "source": []
  },
  {
   "cell_type": "code",
   "execution_count": null,
   "metadata": {},
   "outputs": [],
   "source": []
  },
  {
   "cell_type": "code",
   "execution_count": null,
   "metadata": {},
   "outputs": [],
   "source": []
  },
  {
   "cell_type": "code",
   "execution_count": null,
   "metadata": {},
   "outputs": [],
   "source": []
  }
 ],
 "metadata": {
  "kernelspec": {
   "display_name": "Python 3",
   "language": "python",
   "name": "python3"
  },
  "language_info": {
   "codemirror_mode": {
    "name": "ipython",
    "version": 3
   },
   "file_extension": ".py",
   "mimetype": "text/x-python",
   "name": "python",
   "nbconvert_exporter": "python",
   "pygments_lexer": "ipython3",
   "version": "3.6.9"
  }
 },
 "nbformat": 4,
 "nbformat_minor": 2
}
